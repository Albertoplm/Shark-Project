{
 "cells": [
  {
   "cell_type": "markdown",
   "metadata": {},
   "source": [
    "![texto_descriptivo](portada.jpg)"
   ]
  },
  {
   "cell_type": "markdown",
   "metadata": {},
   "source": [
    "### Importamos los módulos necesarios para el proyecto"
   ]
  },
  {
   "cell_type": "code",
   "execution_count": 1,
   "metadata": {},
   "outputs": [],
   "source": [
    "import pandas as pd\n",
    "import src.limpieza_texto as lt\n",
    "import re"
   ]
  },
  {
   "cell_type": "markdown",
   "metadata": {},
   "source": [
    "### Cargamos el dataset"
   ]
  },
  {
   "cell_type": "code",
   "execution_count": 2,
   "metadata": {},
   "outputs": [
    {
     "data": {
      "text/plain": [
       "Index(['CASE NUMBER', 'DATE', 'YEAR', 'TYPE', 'COUNTRY', 'AREA', 'LOCATION',\n",
       "       'ACTIVITY', 'NAME', 'SEX', 'AGE', 'INJURY', 'FATAL (Y/N)', 'TIME',\n",
       "       'SPECIES', 'INVESTIGATOR OR SOURCE', 'PDF', 'HREF FORMULA', 'HREF',\n",
       "       'CASE NUMBER.1', 'CASE NUMBER.2', 'ORIGINAL ORDER', 'UNNAMED: 22',\n",
       "       'UNNAMED: 23'],\n",
       "      dtype='object')"
      ]
     },
     "execution_count": 2,
     "metadata": {},
     "output_type": "execute_result"
    }
   ],
   "source": [
    "data = pd.read_csv(\"data/attacks.csv\",encoding = \"ISO-8859-1\", dtype=str)\n",
    "data.columns = data.columns.str.rstrip() #Eliminamos si hubiera espacio al final de cada titulo de columna\n",
    "lt.columnas_mayus(data) #convertimos todos los titulos en CAPS"
   ]
  },
  {
   "cell_type": "code",
   "execution_count": 3,
   "metadata": {},
   "outputs": [
    {
     "data": {
      "text/html": [
       "<div>\n",
       "<style scoped>\n",
       "    .dataframe tbody tr th:only-of-type {\n",
       "        vertical-align: middle;\n",
       "    }\n",
       "\n",
       "    .dataframe tbody tr th {\n",
       "        vertical-align: top;\n",
       "    }\n",
       "\n",
       "    .dataframe thead th {\n",
       "        text-align: right;\n",
       "    }\n",
       "</style>\n",
       "<table border=\"1\" class=\"dataframe\">\n",
       "  <thead>\n",
       "    <tr style=\"text-align: right;\">\n",
       "      <th></th>\n",
       "      <th>CASE NUMBER</th>\n",
       "      <th>DATE</th>\n",
       "      <th>YEAR</th>\n",
       "      <th>TYPE</th>\n",
       "      <th>COUNTRY</th>\n",
       "      <th>AREA</th>\n",
       "      <th>LOCATION</th>\n",
       "      <th>ACTIVITY</th>\n",
       "      <th>NAME</th>\n",
       "      <th>SEX</th>\n",
       "      <th>...</th>\n",
       "      <th>SPECIES</th>\n",
       "      <th>INVESTIGATOR OR SOURCE</th>\n",
       "      <th>PDF</th>\n",
       "      <th>HREF FORMULA</th>\n",
       "      <th>HREF</th>\n",
       "      <th>CASE NUMBER.1</th>\n",
       "      <th>CASE NUMBER.2</th>\n",
       "      <th>ORIGINAL ORDER</th>\n",
       "      <th>UNNAMED: 22</th>\n",
       "      <th>UNNAMED: 23</th>\n",
       "    </tr>\n",
       "  </thead>\n",
       "  <tbody>\n",
       "    <tr>\n",
       "      <th>0</th>\n",
       "      <td>2018.06.25</td>\n",
       "      <td>25-Jun-2018</td>\n",
       "      <td>2018</td>\n",
       "      <td>Boating</td>\n",
       "      <td>USA</td>\n",
       "      <td>California</td>\n",
       "      <td>Oceanside, San Diego County</td>\n",
       "      <td>Paddling</td>\n",
       "      <td>Julie Wolfe</td>\n",
       "      <td>F</td>\n",
       "      <td>...</td>\n",
       "      <td>White shark</td>\n",
       "      <td>R. Collier, GSAF</td>\n",
       "      <td>2018.06.25-Wolfe.pdf</td>\n",
       "      <td>http://sharkattackfile.net/spreadsheets/pdf_di...</td>\n",
       "      <td>http://sharkattackfile.net/spreadsheets/pdf_di...</td>\n",
       "      <td>2018.06.25</td>\n",
       "      <td>2018.06.25</td>\n",
       "      <td>6303</td>\n",
       "      <td>NaN</td>\n",
       "      <td>NaN</td>\n",
       "    </tr>\n",
       "    <tr>\n",
       "      <th>1</th>\n",
       "      <td>2018.06.18</td>\n",
       "      <td>18-Jun-2018</td>\n",
       "      <td>2018</td>\n",
       "      <td>Unprovoked</td>\n",
       "      <td>USA</td>\n",
       "      <td>Georgia</td>\n",
       "      <td>St. Simon Island, Glynn County</td>\n",
       "      <td>Standing</td>\n",
       "      <td>Adyson McNeely</td>\n",
       "      <td>F</td>\n",
       "      <td>...</td>\n",
       "      <td>NaN</td>\n",
       "      <td>K.McMurray, TrackingSharks.com</td>\n",
       "      <td>2018.06.18-McNeely.pdf</td>\n",
       "      <td>http://sharkattackfile.net/spreadsheets/pdf_di...</td>\n",
       "      <td>http://sharkattackfile.net/spreadsheets/pdf_di...</td>\n",
       "      <td>2018.06.18</td>\n",
       "      <td>2018.06.18</td>\n",
       "      <td>6302</td>\n",
       "      <td>NaN</td>\n",
       "      <td>NaN</td>\n",
       "    </tr>\n",
       "    <tr>\n",
       "      <th>2</th>\n",
       "      <td>2018.06.09</td>\n",
       "      <td>09-Jun-2018</td>\n",
       "      <td>2018</td>\n",
       "      <td>Invalid</td>\n",
       "      <td>USA</td>\n",
       "      <td>Hawaii</td>\n",
       "      <td>Habush, Oahu</td>\n",
       "      <td>Surfing</td>\n",
       "      <td>John Denges</td>\n",
       "      <td>M</td>\n",
       "      <td>...</td>\n",
       "      <td>NaN</td>\n",
       "      <td>K.McMurray, TrackingSharks.com</td>\n",
       "      <td>2018.06.09-Denges.pdf</td>\n",
       "      <td>http://sharkattackfile.net/spreadsheets/pdf_di...</td>\n",
       "      <td>http://sharkattackfile.net/spreadsheets/pdf_di...</td>\n",
       "      <td>2018.06.09</td>\n",
       "      <td>2018.06.09</td>\n",
       "      <td>6301</td>\n",
       "      <td>NaN</td>\n",
       "      <td>NaN</td>\n",
       "    </tr>\n",
       "    <tr>\n",
       "      <th>3</th>\n",
       "      <td>2018.06.08</td>\n",
       "      <td>08-Jun-2018</td>\n",
       "      <td>2018</td>\n",
       "      <td>Unprovoked</td>\n",
       "      <td>AUSTRALIA</td>\n",
       "      <td>New South Wales</td>\n",
       "      <td>Arrawarra Headland</td>\n",
       "      <td>Surfing</td>\n",
       "      <td>male</td>\n",
       "      <td>M</td>\n",
       "      <td>...</td>\n",
       "      <td>2 m shark</td>\n",
       "      <td>B. Myatt, GSAF</td>\n",
       "      <td>2018.06.08-Arrawarra.pdf</td>\n",
       "      <td>http://sharkattackfile.net/spreadsheets/pdf_di...</td>\n",
       "      <td>http://sharkattackfile.net/spreadsheets/pdf_di...</td>\n",
       "      <td>2018.06.08</td>\n",
       "      <td>2018.06.08</td>\n",
       "      <td>6300</td>\n",
       "      <td>NaN</td>\n",
       "      <td>NaN</td>\n",
       "    </tr>\n",
       "    <tr>\n",
       "      <th>4</th>\n",
       "      <td>2018.06.04</td>\n",
       "      <td>04-Jun-2018</td>\n",
       "      <td>2018</td>\n",
       "      <td>Provoked</td>\n",
       "      <td>MEXICO</td>\n",
       "      <td>Colima</td>\n",
       "      <td>La Ticla</td>\n",
       "      <td>Free diving</td>\n",
       "      <td>Gustavo Ramos</td>\n",
       "      <td>M</td>\n",
       "      <td>...</td>\n",
       "      <td>Tiger shark, 3m</td>\n",
       "      <td>A .Kipper</td>\n",
       "      <td>2018.06.04-Ramos.pdf</td>\n",
       "      <td>http://sharkattackfile.net/spreadsheets/pdf_di...</td>\n",
       "      <td>http://sharkattackfile.net/spreadsheets/pdf_di...</td>\n",
       "      <td>2018.06.04</td>\n",
       "      <td>2018.06.04</td>\n",
       "      <td>6299</td>\n",
       "      <td>NaN</td>\n",
       "      <td>NaN</td>\n",
       "    </tr>\n",
       "    <tr>\n",
       "      <th>...</th>\n",
       "      <td>...</td>\n",
       "      <td>...</td>\n",
       "      <td>...</td>\n",
       "      <td>...</td>\n",
       "      <td>...</td>\n",
       "      <td>...</td>\n",
       "      <td>...</td>\n",
       "      <td>...</td>\n",
       "      <td>...</td>\n",
       "      <td>...</td>\n",
       "      <td>...</td>\n",
       "      <td>...</td>\n",
       "      <td>...</td>\n",
       "      <td>...</td>\n",
       "      <td>...</td>\n",
       "      <td>...</td>\n",
       "      <td>...</td>\n",
       "      <td>...</td>\n",
       "      <td>...</td>\n",
       "      <td>...</td>\n",
       "      <td>...</td>\n",
       "    </tr>\n",
       "    <tr>\n",
       "      <th>25718</th>\n",
       "      <td>NaN</td>\n",
       "      <td>NaN</td>\n",
       "      <td>NaN</td>\n",
       "      <td>NaN</td>\n",
       "      <td>NaN</td>\n",
       "      <td>NaN</td>\n",
       "      <td>NaN</td>\n",
       "      <td>NaN</td>\n",
       "      <td>NaN</td>\n",
       "      <td>NaN</td>\n",
       "      <td>...</td>\n",
       "      <td>NaN</td>\n",
       "      <td>NaN</td>\n",
       "      <td>NaN</td>\n",
       "      <td>NaN</td>\n",
       "      <td>NaN</td>\n",
       "      <td>NaN</td>\n",
       "      <td>NaN</td>\n",
       "      <td>NaN</td>\n",
       "      <td>NaN</td>\n",
       "      <td>NaN</td>\n",
       "    </tr>\n",
       "    <tr>\n",
       "      <th>25719</th>\n",
       "      <td>NaN</td>\n",
       "      <td>NaN</td>\n",
       "      <td>NaN</td>\n",
       "      <td>NaN</td>\n",
       "      <td>NaN</td>\n",
       "      <td>NaN</td>\n",
       "      <td>NaN</td>\n",
       "      <td>NaN</td>\n",
       "      <td>NaN</td>\n",
       "      <td>NaN</td>\n",
       "      <td>...</td>\n",
       "      <td>NaN</td>\n",
       "      <td>NaN</td>\n",
       "      <td>NaN</td>\n",
       "      <td>NaN</td>\n",
       "      <td>NaN</td>\n",
       "      <td>NaN</td>\n",
       "      <td>NaN</td>\n",
       "      <td>NaN</td>\n",
       "      <td>NaN</td>\n",
       "      <td>NaN</td>\n",
       "    </tr>\n",
       "    <tr>\n",
       "      <th>25720</th>\n",
       "      <td>NaN</td>\n",
       "      <td>NaN</td>\n",
       "      <td>NaN</td>\n",
       "      <td>NaN</td>\n",
       "      <td>NaN</td>\n",
       "      <td>NaN</td>\n",
       "      <td>NaN</td>\n",
       "      <td>NaN</td>\n",
       "      <td>NaN</td>\n",
       "      <td>NaN</td>\n",
       "      <td>...</td>\n",
       "      <td>NaN</td>\n",
       "      <td>NaN</td>\n",
       "      <td>NaN</td>\n",
       "      <td>NaN</td>\n",
       "      <td>NaN</td>\n",
       "      <td>NaN</td>\n",
       "      <td>NaN</td>\n",
       "      <td>NaN</td>\n",
       "      <td>NaN</td>\n",
       "      <td>NaN</td>\n",
       "    </tr>\n",
       "    <tr>\n",
       "      <th>25721</th>\n",
       "      <td>NaN</td>\n",
       "      <td>NaN</td>\n",
       "      <td>NaN</td>\n",
       "      <td>NaN</td>\n",
       "      <td>NaN</td>\n",
       "      <td>NaN</td>\n",
       "      <td>NaN</td>\n",
       "      <td>NaN</td>\n",
       "      <td>NaN</td>\n",
       "      <td>NaN</td>\n",
       "      <td>...</td>\n",
       "      <td>NaN</td>\n",
       "      <td>NaN</td>\n",
       "      <td>NaN</td>\n",
       "      <td>NaN</td>\n",
       "      <td>NaN</td>\n",
       "      <td>NaN</td>\n",
       "      <td>NaN</td>\n",
       "      <td>NaN</td>\n",
       "      <td>NaN</td>\n",
       "      <td>NaN</td>\n",
       "    </tr>\n",
       "    <tr>\n",
       "      <th>25722</th>\n",
       "      <td>xx</td>\n",
       "      <td>NaN</td>\n",
       "      <td>NaN</td>\n",
       "      <td>NaN</td>\n",
       "      <td>NaN</td>\n",
       "      <td>NaN</td>\n",
       "      <td>NaN</td>\n",
       "      <td>NaN</td>\n",
       "      <td>NaN</td>\n",
       "      <td>NaN</td>\n",
       "      <td>...</td>\n",
       "      <td>NaN</td>\n",
       "      <td>NaN</td>\n",
       "      <td>NaN</td>\n",
       "      <td>NaN</td>\n",
       "      <td>NaN</td>\n",
       "      <td>NaN</td>\n",
       "      <td>NaN</td>\n",
       "      <td>NaN</td>\n",
       "      <td>NaN</td>\n",
       "      <td>NaN</td>\n",
       "    </tr>\n",
       "  </tbody>\n",
       "</table>\n",
       "<p>25723 rows × 24 columns</p>\n",
       "</div>"
      ],
      "text/plain": [
       "      CASE NUMBER         DATE  YEAR        TYPE    COUNTRY             AREA  \\\n",
       "0      2018.06.25  25-Jun-2018  2018     Boating        USA       California   \n",
       "1      2018.06.18  18-Jun-2018  2018  Unprovoked        USA          Georgia   \n",
       "2      2018.06.09  09-Jun-2018  2018     Invalid        USA           Hawaii   \n",
       "3      2018.06.08  08-Jun-2018  2018  Unprovoked  AUSTRALIA  New South Wales   \n",
       "4      2018.06.04  04-Jun-2018  2018    Provoked     MEXICO           Colima   \n",
       "...           ...          ...   ...         ...        ...              ...   \n",
       "25718         NaN          NaN   NaN         NaN        NaN              NaN   \n",
       "25719         NaN          NaN   NaN         NaN        NaN              NaN   \n",
       "25720         NaN          NaN   NaN         NaN        NaN              NaN   \n",
       "25721         NaN          NaN   NaN         NaN        NaN              NaN   \n",
       "25722          xx          NaN   NaN         NaN        NaN              NaN   \n",
       "\n",
       "                             LOCATION     ACTIVITY             NAME  SEX  ...  \\\n",
       "0         Oceanside, San Diego County     Paddling      Julie Wolfe    F  ...   \n",
       "1      St. Simon Island, Glynn County     Standing  Adyson McNeely     F  ...   \n",
       "2                        Habush, Oahu      Surfing      John Denges    M  ...   \n",
       "3                  Arrawarra Headland      Surfing             male    M  ...   \n",
       "4                            La Ticla  Free diving   Gustavo Ramos     M  ...   \n",
       "...                               ...          ...              ...  ...  ...   \n",
       "25718                             NaN          NaN              NaN  NaN  ...   \n",
       "25719                             NaN          NaN              NaN  NaN  ...   \n",
       "25720                             NaN          NaN              NaN  NaN  ...   \n",
       "25721                             NaN          NaN              NaN  NaN  ...   \n",
       "25722                             NaN          NaN              NaN  NaN  ...   \n",
       "\n",
       "               SPECIES          INVESTIGATOR OR SOURCE  \\\n",
       "0          White shark                R. Collier, GSAF   \n",
       "1                  NaN  K.McMurray, TrackingSharks.com   \n",
       "2                  NaN  K.McMurray, TrackingSharks.com   \n",
       "3            2 m shark                  B. Myatt, GSAF   \n",
       "4      Tiger shark, 3m                       A .Kipper   \n",
       "...                ...                             ...   \n",
       "25718              NaN                             NaN   \n",
       "25719              NaN                             NaN   \n",
       "25720              NaN                             NaN   \n",
       "25721              NaN                             NaN   \n",
       "25722              NaN                             NaN   \n",
       "\n",
       "                            PDF  \\\n",
       "0          2018.06.25-Wolfe.pdf   \n",
       "1        2018.06.18-McNeely.pdf   \n",
       "2         2018.06.09-Denges.pdf   \n",
       "3      2018.06.08-Arrawarra.pdf   \n",
       "4          2018.06.04-Ramos.pdf   \n",
       "...                         ...   \n",
       "25718                       NaN   \n",
       "25719                       NaN   \n",
       "25720                       NaN   \n",
       "25721                       NaN   \n",
       "25722                       NaN   \n",
       "\n",
       "                                            HREF FORMULA  \\\n",
       "0      http://sharkattackfile.net/spreadsheets/pdf_di...   \n",
       "1      http://sharkattackfile.net/spreadsheets/pdf_di...   \n",
       "2      http://sharkattackfile.net/spreadsheets/pdf_di...   \n",
       "3      http://sharkattackfile.net/spreadsheets/pdf_di...   \n",
       "4      http://sharkattackfile.net/spreadsheets/pdf_di...   \n",
       "...                                                  ...   \n",
       "25718                                                NaN   \n",
       "25719                                                NaN   \n",
       "25720                                                NaN   \n",
       "25721                                                NaN   \n",
       "25722                                                NaN   \n",
       "\n",
       "                                                    HREF CASE NUMBER.1  \\\n",
       "0      http://sharkattackfile.net/spreadsheets/pdf_di...    2018.06.25   \n",
       "1      http://sharkattackfile.net/spreadsheets/pdf_di...    2018.06.18   \n",
       "2      http://sharkattackfile.net/spreadsheets/pdf_di...    2018.06.09   \n",
       "3      http://sharkattackfile.net/spreadsheets/pdf_di...    2018.06.08   \n",
       "4      http://sharkattackfile.net/spreadsheets/pdf_di...    2018.06.04   \n",
       "...                                                  ...           ...   \n",
       "25718                                                NaN           NaN   \n",
       "25719                                                NaN           NaN   \n",
       "25720                                                NaN           NaN   \n",
       "25721                                                NaN           NaN   \n",
       "25722                                                NaN           NaN   \n",
       "\n",
       "      CASE NUMBER.2 ORIGINAL ORDER UNNAMED: 22 UNNAMED: 23  \n",
       "0        2018.06.25           6303         NaN         NaN  \n",
       "1        2018.06.18           6302         NaN         NaN  \n",
       "2        2018.06.09           6301         NaN         NaN  \n",
       "3        2018.06.08           6300         NaN         NaN  \n",
       "4        2018.06.04           6299         NaN         NaN  \n",
       "...             ...            ...         ...         ...  \n",
       "25718           NaN            NaN         NaN         NaN  \n",
       "25719           NaN            NaN         NaN         NaN  \n",
       "25720           NaN            NaN         NaN         NaN  \n",
       "25721           NaN            NaN         NaN         NaN  \n",
       "25722           NaN            NaN         NaN         NaN  \n",
       "\n",
       "[25723 rows x 24 columns]"
      ]
     },
     "execution_count": 3,
     "metadata": {},
     "output_type": "execute_result"
    }
   ],
   "source": [
    "data #Miramos la base "
   ]
  },
  {
   "cell_type": "code",
   "execution_count": 4,
   "metadata": {},
   "outputs": [
    {
     "data": {
      "text/plain": [
       "Index(['CASE NUMBER', 'DATE', 'YEAR', 'TYPE', 'COUNTRY', 'AREA', 'LOCATION',\n",
       "       'ACTIVITY', 'NAME', 'SEX', 'AGE', 'INJURY', 'FATAL (Y/N)', 'TIME',\n",
       "       'SPECIES', 'INVESTIGATOR OR SOURCE', 'PDF', 'HREF FORMULA', 'HREF',\n",
       "       'CASE NUMBER.1', 'CASE NUMBER.2', 'ORIGINAL ORDER', 'UNNAMED: 22',\n",
       "       'UNNAMED: 23'],\n",
       "      dtype='object')"
      ]
     },
     "execution_count": 4,
     "metadata": {},
     "output_type": "execute_result"
    }
   ],
   "source": [
    "data.columns #Imprimo todas las columnas, para copiar y pegar las que quiero quitar"
   ]
  },
  {
   "cell_type": "code",
   "execution_count": 5,
   "metadata": {},
   "outputs": [],
   "source": [
    "data = data.drop([\"UNNAMED: 22\", \"UNNAMED: 23\", \"HREF FORMULA\", \"HREF\", \"PDF\", \"AREA\", \"TYPE\", \"LOCATION\", \"NAME\", \"INVESTIGATOR OR SOURCE\", 'CASE NUMBER.1', 'CASE NUMBER.2'], axis=1)"
   ]
  },
  {
   "cell_type": "code",
   "execution_count": 6,
   "metadata": {},
   "outputs": [
    {
     "data": {
      "text/plain": [
       "TIME              22775\n",
       "SPECIES           22259\n",
       "AGE               22252\n",
       "SEX               19986\n",
       "ACTIVITY          19965\n",
       "FATAL (Y/N)       19960\n",
       "COUNTRY           19471\n",
       "INJURY            19449\n",
       "YEAR              19423\n",
       "DATE              19421\n",
       "ORIGINAL ORDER    19414\n",
       "CASE NUMBER       17021\n",
       "dtype: int64"
      ]
     },
     "execution_count": 6,
     "metadata": {},
     "output_type": "execute_result"
    }
   ],
   "source": [
    "lt.isnull(data) #Analizo cuantos datos nos faltan"
   ]
  },
  {
   "cell_type": "code",
   "execution_count": 7,
   "metadata": {},
   "outputs": [
    {
     "data": {
      "text/plain": [
       "array(['White shark', nan, '2 m shark', ..., \"12' tiger shark\",\n",
       "       'Blue pointers',\n",
       "       'Said to involve a grey nurse shark that leapt out of the water and  seized the boy but species identification is questionable'],\n",
       "      dtype=object)"
      ]
     },
     "execution_count": 7,
     "metadata": {},
     "output_type": "execute_result"
    }
   ],
   "source": [
    "data[\"SPECIES\"].unique() #Pruebo varios unique para analizar más en detalle la base"
   ]
  },
  {
   "cell_type": "code",
   "execution_count": 8,
   "metadata": {},
   "outputs": [
    {
     "data": {
      "text/plain": [
       "Index(['CASE NUMBER', 'DATE', 'YEAR', 'COUNTRY', 'ACTIVITY', 'SEX', 'AGE',\n",
       "       'INJURY', 'FATAL (Y/N)', 'TIME', 'SPECIES', 'ORIGINAL ORDER'],\n",
       "      dtype='object')"
      ]
     },
     "execution_count": 8,
     "metadata": {},
     "output_type": "execute_result"
    }
   ],
   "source": [
    "data.columns #Veo las columnas con las que me he quedado"
   ]
  },
  {
   "cell_type": "code",
   "execution_count": 9,
   "metadata": {},
   "outputs": [],
   "source": [
    "data = data.dropna(axis = 0, how=\"all\", subset=['DATE', 'COUNTRY', 'YEAR', 'ACTIVITY', 'SEX', 'AGE',\n",
    "       'INJURY', 'FATAL (Y/N)', 'TIME', 'SPECIES']) \n",
    "#Me cargo todos las columnas que tengan NaN en todas la filas (excluyendo CASE NUMBER)"
   ]
  },
  {
   "cell_type": "code",
   "execution_count": 10,
   "metadata": {},
   "outputs": [
    {
     "data": {
      "text/html": [
       "<div>\n",
       "<style scoped>\n",
       "    .dataframe tbody tr th:only-of-type {\n",
       "        vertical-align: middle;\n",
       "    }\n",
       "\n",
       "    .dataframe tbody tr th {\n",
       "        vertical-align: top;\n",
       "    }\n",
       "\n",
       "    .dataframe thead th {\n",
       "        text-align: right;\n",
       "    }\n",
       "</style>\n",
       "<table border=\"1\" class=\"dataframe\">\n",
       "  <thead>\n",
       "    <tr style=\"text-align: right;\">\n",
       "      <th></th>\n",
       "      <th>CASE NUMBER</th>\n",
       "      <th>DATE</th>\n",
       "      <th>YEAR</th>\n",
       "      <th>COUNTRY</th>\n",
       "      <th>ACTIVITY</th>\n",
       "      <th>SEX</th>\n",
       "      <th>AGE</th>\n",
       "      <th>INJURY</th>\n",
       "      <th>FATAL (Y/N)</th>\n",
       "      <th>TIME</th>\n",
       "      <th>SPECIES</th>\n",
       "      <th>ORIGINAL ORDER</th>\n",
       "    </tr>\n",
       "  </thead>\n",
       "  <tbody>\n",
       "    <tr>\n",
       "      <th>0</th>\n",
       "      <td>2018.06.25</td>\n",
       "      <td>25-Jun-2018</td>\n",
       "      <td>2018</td>\n",
       "      <td>USA</td>\n",
       "      <td>Paddling</td>\n",
       "      <td>F</td>\n",
       "      <td>57</td>\n",
       "      <td>No injury to occupant, outrigger canoe and pad...</td>\n",
       "      <td>N</td>\n",
       "      <td>18h00</td>\n",
       "      <td>White shark</td>\n",
       "      <td>6303</td>\n",
       "    </tr>\n",
       "    <tr>\n",
       "      <th>1</th>\n",
       "      <td>2018.06.18</td>\n",
       "      <td>18-Jun-2018</td>\n",
       "      <td>2018</td>\n",
       "      <td>USA</td>\n",
       "      <td>Standing</td>\n",
       "      <td>F</td>\n",
       "      <td>11</td>\n",
       "      <td>Minor injury to left thigh</td>\n",
       "      <td>N</td>\n",
       "      <td>14h00  -15h00</td>\n",
       "      <td>NaN</td>\n",
       "      <td>6302</td>\n",
       "    </tr>\n",
       "    <tr>\n",
       "      <th>2</th>\n",
       "      <td>2018.06.09</td>\n",
       "      <td>09-Jun-2018</td>\n",
       "      <td>2018</td>\n",
       "      <td>USA</td>\n",
       "      <td>Surfing</td>\n",
       "      <td>M</td>\n",
       "      <td>48</td>\n",
       "      <td>Injury to left lower leg from surfboard skeg</td>\n",
       "      <td>N</td>\n",
       "      <td>07h45</td>\n",
       "      <td>NaN</td>\n",
       "      <td>6301</td>\n",
       "    </tr>\n",
       "    <tr>\n",
       "      <th>3</th>\n",
       "      <td>2018.06.08</td>\n",
       "      <td>08-Jun-2018</td>\n",
       "      <td>2018</td>\n",
       "      <td>AUSTRALIA</td>\n",
       "      <td>Surfing</td>\n",
       "      <td>M</td>\n",
       "      <td>NaN</td>\n",
       "      <td>Minor injury to lower leg</td>\n",
       "      <td>N</td>\n",
       "      <td>NaN</td>\n",
       "      <td>2 m shark</td>\n",
       "      <td>6300</td>\n",
       "    </tr>\n",
       "    <tr>\n",
       "      <th>4</th>\n",
       "      <td>2018.06.04</td>\n",
       "      <td>04-Jun-2018</td>\n",
       "      <td>2018</td>\n",
       "      <td>MEXICO</td>\n",
       "      <td>Free diving</td>\n",
       "      <td>M</td>\n",
       "      <td>NaN</td>\n",
       "      <td>Lacerations to leg &amp; hand shark PROVOKED INCIDENT</td>\n",
       "      <td>N</td>\n",
       "      <td>NaN</td>\n",
       "      <td>Tiger shark, 3m</td>\n",
       "      <td>6299</td>\n",
       "    </tr>\n",
       "    <tr>\n",
       "      <th>...</th>\n",
       "      <td>...</td>\n",
       "      <td>...</td>\n",
       "      <td>...</td>\n",
       "      <td>...</td>\n",
       "      <td>...</td>\n",
       "      <td>...</td>\n",
       "      <td>...</td>\n",
       "      <td>...</td>\n",
       "      <td>...</td>\n",
       "      <td>...</td>\n",
       "      <td>...</td>\n",
       "      <td>...</td>\n",
       "    </tr>\n",
       "    <tr>\n",
       "      <th>6297</th>\n",
       "      <td>ND.0005</td>\n",
       "      <td>Before 1903</td>\n",
       "      <td>0000</td>\n",
       "      <td>AUSTRALIA</td>\n",
       "      <td>Diving</td>\n",
       "      <td>M</td>\n",
       "      <td>NaN</td>\n",
       "      <td>FATAL</td>\n",
       "      <td>Y</td>\n",
       "      <td>NaN</td>\n",
       "      <td>NaN</td>\n",
       "      <td>6</td>\n",
       "    </tr>\n",
       "    <tr>\n",
       "      <th>6298</th>\n",
       "      <td>ND.0004</td>\n",
       "      <td>Before 1903</td>\n",
       "      <td>0000</td>\n",
       "      <td>AUSTRALIA</td>\n",
       "      <td>Pearl diving</td>\n",
       "      <td>M</td>\n",
       "      <td>NaN</td>\n",
       "      <td>FATAL</td>\n",
       "      <td>Y</td>\n",
       "      <td>NaN</td>\n",
       "      <td>NaN</td>\n",
       "      <td>5</td>\n",
       "    </tr>\n",
       "    <tr>\n",
       "      <th>6299</th>\n",
       "      <td>ND.0003</td>\n",
       "      <td>1900-1905</td>\n",
       "      <td>0000</td>\n",
       "      <td>USA</td>\n",
       "      <td>Swimming</td>\n",
       "      <td>M</td>\n",
       "      <td>NaN</td>\n",
       "      <td>FATAL</td>\n",
       "      <td>Y</td>\n",
       "      <td>NaN</td>\n",
       "      <td>NaN</td>\n",
       "      <td>4</td>\n",
       "    </tr>\n",
       "    <tr>\n",
       "      <th>6300</th>\n",
       "      <td>ND.0002</td>\n",
       "      <td>1883-1889</td>\n",
       "      <td>0000</td>\n",
       "      <td>PANAMA</td>\n",
       "      <td>NaN</td>\n",
       "      <td>M</td>\n",
       "      <td>NaN</td>\n",
       "      <td>FATAL</td>\n",
       "      <td>Y</td>\n",
       "      <td>NaN</td>\n",
       "      <td>NaN</td>\n",
       "      <td>3</td>\n",
       "    </tr>\n",
       "    <tr>\n",
       "      <th>6301</th>\n",
       "      <td>ND.0001</td>\n",
       "      <td>1845-1853</td>\n",
       "      <td>0000</td>\n",
       "      <td>CEYLON (SRI LANKA)</td>\n",
       "      <td>Swimming</td>\n",
       "      <td>M</td>\n",
       "      <td>15</td>\n",
       "      <td>FATAL. \"Shark bit him in half, carrying away t...</td>\n",
       "      <td>Y</td>\n",
       "      <td>NaN</td>\n",
       "      <td>NaN</td>\n",
       "      <td>2</td>\n",
       "    </tr>\n",
       "  </tbody>\n",
       "</table>\n",
       "<p>6302 rows × 12 columns</p>\n",
       "</div>"
      ],
      "text/plain": [
       "     CASE NUMBER         DATE  YEAR             COUNTRY      ACTIVITY SEX  \\\n",
       "0     2018.06.25  25-Jun-2018  2018                 USA      Paddling   F   \n",
       "1     2018.06.18  18-Jun-2018  2018                 USA      Standing   F   \n",
       "2     2018.06.09  09-Jun-2018  2018                 USA       Surfing   M   \n",
       "3     2018.06.08  08-Jun-2018  2018           AUSTRALIA       Surfing   M   \n",
       "4     2018.06.04  04-Jun-2018  2018              MEXICO   Free diving   M   \n",
       "...          ...          ...   ...                 ...           ...  ..   \n",
       "6297     ND.0005  Before 1903  0000           AUSTRALIA        Diving   M   \n",
       "6298     ND.0004  Before 1903  0000           AUSTRALIA  Pearl diving   M   \n",
       "6299     ND.0003    1900-1905  0000                 USA      Swimming   M   \n",
       "6300     ND.0002    1883-1889  0000              PANAMA           NaN   M   \n",
       "6301     ND.0001    1845-1853  0000  CEYLON (SRI LANKA)      Swimming   M   \n",
       "\n",
       "      AGE                                             INJURY FATAL (Y/N)  \\\n",
       "0      57  No injury to occupant, outrigger canoe and pad...           N   \n",
       "1      11                         Minor injury to left thigh           N   \n",
       "2      48       Injury to left lower leg from surfboard skeg           N   \n",
       "3     NaN                          Minor injury to lower leg           N   \n",
       "4     NaN  Lacerations to leg & hand shark PROVOKED INCIDENT           N   \n",
       "...   ...                                                ...         ...   \n",
       "6297  NaN                                              FATAL           Y   \n",
       "6298  NaN                                              FATAL           Y   \n",
       "6299  NaN                                              FATAL           Y   \n",
       "6300  NaN                                              FATAL           Y   \n",
       "6301   15  FATAL. \"Shark bit him in half, carrying away t...           Y   \n",
       "\n",
       "               TIME          SPECIES ORIGINAL ORDER  \n",
       "0             18h00      White shark           6303  \n",
       "1     14h00  -15h00              NaN           6302  \n",
       "2             07h45              NaN           6301  \n",
       "3               NaN        2 m shark           6300  \n",
       "4               NaN  Tiger shark, 3m           6299  \n",
       "...             ...              ...            ...  \n",
       "6297            NaN              NaN              6  \n",
       "6298            NaN              NaN              5  \n",
       "6299            NaN              NaN              4  \n",
       "6300            NaN              NaN              3  \n",
       "6301            NaN              NaN              2  \n",
       "\n",
       "[6302 rows x 12 columns]"
      ]
     },
     "execution_count": 10,
     "metadata": {},
     "output_type": "execute_result"
    }
   ],
   "source": [
    "data #Chequeo la base, veo el número de rows con el que me he quedado"
   ]
  },
  {
   "cell_type": "code",
   "execution_count": 11,
   "metadata": {},
   "outputs": [
    {
     "data": {
      "text/plain": [
       "TIME              3354\n",
       "SPECIES           2838\n",
       "AGE               2831\n",
       "SEX                565\n",
       "ACTIVITY           544\n",
       "FATAL (Y/N)        539\n",
       "COUNTRY             50\n",
       "INJURY              28\n",
       "YEAR                 2\n",
       "CASE NUMBER          1\n",
       "ORIGINAL ORDER       0\n",
       "DATE                 0\n",
       "dtype: int64"
      ]
     },
     "execution_count": 11,
     "metadata": {},
     "output_type": "execute_result"
    }
   ],
   "source": [
    "lt.isnull(data) #Miro cuantos null me quedan...."
   ]
  },
  {
   "cell_type": "code",
   "execution_count": 12,
   "metadata": {},
   "outputs": [],
   "source": [
    "ids = data[\"CASE NUMBER\"]  #Quiero chequear si Case Number tiene valores duplicados, o me puede valer como ID"
   ]
  },
  {
   "cell_type": "code",
   "execution_count": 13,
   "metadata": {},
   "outputs": [
    {
     "data": {
      "text/html": [
       "<div>\n",
       "<style scoped>\n",
       "    .dataframe tbody tr th:only-of-type {\n",
       "        vertical-align: middle;\n",
       "    }\n",
       "\n",
       "    .dataframe tbody tr th {\n",
       "        vertical-align: top;\n",
       "    }\n",
       "\n",
       "    .dataframe thead th {\n",
       "        text-align: right;\n",
       "    }\n",
       "</style>\n",
       "<table border=\"1\" class=\"dataframe\">\n",
       "  <thead>\n",
       "    <tr style=\"text-align: right;\">\n",
       "      <th></th>\n",
       "      <th>CASE NUMBER</th>\n",
       "      <th>DATE</th>\n",
       "      <th>YEAR</th>\n",
       "      <th>COUNTRY</th>\n",
       "      <th>ACTIVITY</th>\n",
       "      <th>SEX</th>\n",
       "      <th>AGE</th>\n",
       "      <th>INJURY</th>\n",
       "      <th>FATAL (Y/N)</th>\n",
       "      <th>TIME</th>\n",
       "      <th>SPECIES</th>\n",
       "      <th>ORIGINAL ORDER</th>\n",
       "    </tr>\n",
       "  </thead>\n",
       "  <tbody>\n",
       "    <tr>\n",
       "      <th>522</th>\n",
       "      <td>2014.08.02</td>\n",
       "      <td>02-Aug-2014</td>\n",
       "      <td>2014</td>\n",
       "      <td>USA</td>\n",
       "      <td>Surfing</td>\n",
       "      <td>M</td>\n",
       "      <td>50s</td>\n",
       "      <td>Foot bitten</td>\n",
       "      <td>N</td>\n",
       "      <td>NaN</td>\n",
       "      <td>NaN</td>\n",
       "      <td>5781</td>\n",
       "    </tr>\n",
       "    <tr>\n",
       "      <th>523</th>\n",
       "      <td>2014.08.02</td>\n",
       "      <td>02-Aug-2014</td>\n",
       "      <td>2014</td>\n",
       "      <td>USA</td>\n",
       "      <td>Boogie boarding</td>\n",
       "      <td>M</td>\n",
       "      <td>8</td>\n",
       "      <td>Laceration to ankle</td>\n",
       "      <td>N</td>\n",
       "      <td>13h00</td>\n",
       "      <td>NaN</td>\n",
       "      <td>5780</td>\n",
       "    </tr>\n",
       "    <tr>\n",
       "      <th>615</th>\n",
       "      <td>2013.10.05</td>\n",
       "      <td>06-Oct-2013</td>\n",
       "      <td>2013</td>\n",
       "      <td>USA</td>\n",
       "      <td>Surfing</td>\n",
       "      <td>M</td>\n",
       "      <td>45</td>\n",
       "      <td>Laceration to thigh</td>\n",
       "      <td>N</td>\n",
       "      <td>08h45</td>\n",
       "      <td>White shark, 8' to 10'</td>\n",
       "      <td>5688</td>\n",
       "    </tr>\n",
       "    <tr>\n",
       "      <th>616</th>\n",
       "      <td>2013.10.05</td>\n",
       "      <td>10-Oct-2013</td>\n",
       "      <td>2013</td>\n",
       "      <td>USA</td>\n",
       "      <td>Wading</td>\n",
       "      <td>M</td>\n",
       "      <td>12</td>\n",
       "      <td>Lacerations to  right forearm</td>\n",
       "      <td>N</td>\n",
       "      <td>15h30</td>\n",
       "      <td>Small bull shark</td>\n",
       "      <td>5687</td>\n",
       "    </tr>\n",
       "    <tr>\n",
       "      <th>746</th>\n",
       "      <td>2012.09.02.b</td>\n",
       "      <td>02-Sep-2012</td>\n",
       "      <td>2012</td>\n",
       "      <td>USA</td>\n",
       "      <td>Boogie boarding</td>\n",
       "      <td>F</td>\n",
       "      <td>8</td>\n",
       "      <td>Puncture wounds to calf and hand</td>\n",
       "      <td>N</td>\n",
       "      <td>18h30</td>\n",
       "      <td>3.5' to 4' shark</td>\n",
       "      <td>5557</td>\n",
       "    </tr>\n",
       "    <tr>\n",
       "      <th>747</th>\n",
       "      <td>2012.09.02.b</td>\n",
       "      <td>02-Sep-2012</td>\n",
       "      <td>2012</td>\n",
       "      <td>USA</td>\n",
       "      <td>Spearfishing</td>\n",
       "      <td>NaN</td>\n",
       "      <td>NaN</td>\n",
       "      <td>Minor laceration to hand  PROVOKED INCIDENT</td>\n",
       "      <td>N</td>\n",
       "      <td>12h00</td>\n",
       "      <td>Tiger shark, 10' to 12'</td>\n",
       "      <td>5556</td>\n",
       "    </tr>\n",
       "    <tr>\n",
       "      <th>1063</th>\n",
       "      <td>2009.12.18</td>\n",
       "      <td>18-Dec-2009</td>\n",
       "      <td>2009</td>\n",
       "      <td>SOUTH AFRICA</td>\n",
       "      <td>Paddling on kneeboard</td>\n",
       "      <td>M</td>\n",
       "      <td>22</td>\n",
       "      <td>FATAL</td>\n",
       "      <td>Y</td>\n",
       "      <td>14h30</td>\n",
       "      <td>NaN</td>\n",
       "      <td>5240</td>\n",
       "    </tr>\n",
       "    <tr>\n",
       "      <th>1064</th>\n",
       "      <td>2009.12.18</td>\n",
       "      <td>18-Dec-2009</td>\n",
       "      <td>2009</td>\n",
       "      <td>SOUTH AFRICA</td>\n",
       "      <td>Surfing</td>\n",
       "      <td>M</td>\n",
       "      <td>NaN</td>\n",
       "      <td>Minor lacerations to left leg. nitially report...</td>\n",
       "      <td>NaN</td>\n",
       "      <td>NaN</td>\n",
       "      <td>No shark involvement</td>\n",
       "      <td>5239</td>\n",
       "    </tr>\n",
       "    <tr>\n",
       "      <th>1436</th>\n",
       "      <td>2006.09.02</td>\n",
       "      <td>02-Sep-2006</td>\n",
       "      <td>2006</td>\n",
       "      <td>USA</td>\n",
       "      <td>Swimming</td>\n",
       "      <td>M</td>\n",
       "      <td>12 or 13</td>\n",
       "      <td>Arm bitten</td>\n",
       "      <td>N</td>\n",
       "      <td>17h55</td>\n",
       "      <td>NaN</td>\n",
       "      <td>4867</td>\n",
       "    </tr>\n",
       "    <tr>\n",
       "      <th>1437</th>\n",
       "      <td>2006.09.02</td>\n",
       "      <td>02-Sep-2006</td>\n",
       "      <td>2006</td>\n",
       "      <td>SOUTH AFRICA</td>\n",
       "      <td>Surfing</td>\n",
       "      <td>M</td>\n",
       "      <td>37</td>\n",
       "      <td>No injury, shark rammed surfboard</td>\n",
       "      <td>N</td>\n",
       "      <td>NaN</td>\n",
       "      <td>White shark, 3.5m</td>\n",
       "      <td>4866</td>\n",
       "    </tr>\n",
       "    <tr>\n",
       "      <th>1599</th>\n",
       "      <td>2005.04.06</td>\n",
       "      <td>06-Apr-2005</td>\n",
       "      <td>2005</td>\n",
       "      <td>USA</td>\n",
       "      <td>NaN</td>\n",
       "      <td>F</td>\n",
       "      <td>NaN</td>\n",
       "      <td>Left calf injured</td>\n",
       "      <td>N</td>\n",
       "      <td>NaN</td>\n",
       "      <td>small hammerhead shark</td>\n",
       "      <td>4704</td>\n",
       "    </tr>\n",
       "    <tr>\n",
       "      <th>1600</th>\n",
       "      <td>2005.04.06</td>\n",
       "      <td>06-Apr-2005</td>\n",
       "      <td>2005</td>\n",
       "      <td>HONDURAS</td>\n",
       "      <td>SCUBA Diving</td>\n",
       "      <td>F</td>\n",
       "      <td>NaN</td>\n",
       "      <td>Laceration on siide of calf, small laceration ...</td>\n",
       "      <td>NaN</td>\n",
       "      <td>NaN</td>\n",
       "      <td>Shark involvement not confirmed</td>\n",
       "      <td>4703</td>\n",
       "    </tr>\n",
       "    <tr>\n",
       "      <th>2634</th>\n",
       "      <td>1990.05.10</td>\n",
       "      <td>10-May-1990</td>\n",
       "      <td>1990</td>\n",
       "      <td>AUSTRALIA</td>\n",
       "      <td>Snorkeling</td>\n",
       "      <td>F</td>\n",
       "      <td>30s</td>\n",
       "      <td>Lacerations</td>\n",
       "      <td>N</td>\n",
       "      <td>NaN</td>\n",
       "      <td>2 m hammerhead</td>\n",
       "      <td>3669</td>\n",
       "    </tr>\n",
       "    <tr>\n",
       "      <th>2635</th>\n",
       "      <td>1990.05.10</td>\n",
       "      <td>10-May-1990</td>\n",
       "      <td>1990</td>\n",
       "      <td>AUSTRALIA</td>\n",
       "      <td>Snorkeling, possibly holding a fish</td>\n",
       "      <td>M</td>\n",
       "      <td>30s</td>\n",
       "      <td>Lacerations</td>\n",
       "      <td>N</td>\n",
       "      <td>NaN</td>\n",
       "      <td>2 m hammerhead</td>\n",
       "      <td>3668</td>\n",
       "    </tr>\n",
       "    <tr>\n",
       "      <th>2937</th>\n",
       "      <td>1983.06.15</td>\n",
       "      <td>15-Jun-1983</td>\n",
       "      <td>1983</td>\n",
       "      <td>BAHAMAS</td>\n",
       "      <td>NaN</td>\n",
       "      <td>M</td>\n",
       "      <td>30</td>\n",
       "      <td>Lacerations to hand &amp; foot</td>\n",
       "      <td>N</td>\n",
       "      <td>11h00</td>\n",
       "      <td>6' blacktip shark</td>\n",
       "      <td>3366</td>\n",
       "    </tr>\n",
       "    <tr>\n",
       "      <th>2938</th>\n",
       "      <td>1983.06.15</td>\n",
       "      <td>15-Jun-1983</td>\n",
       "      <td>1983</td>\n",
       "      <td>ITALY</td>\n",
       "      <td>Scuba diving</td>\n",
       "      <td>M</td>\n",
       "      <td>NaN</td>\n",
       "      <td>No injury, 3 m shark \"harassed\" him at depth o...</td>\n",
       "      <td>NaN</td>\n",
       "      <td>NaN</td>\n",
       "      <td>Questionable incident</td>\n",
       "      <td>3365</td>\n",
       "    </tr>\n",
       "    <tr>\n",
       "      <th>3062</th>\n",
       "      <td>1980.07.00</td>\n",
       "      <td>Late Jul-1980</td>\n",
       "      <td>1980</td>\n",
       "      <td>USA</td>\n",
       "      <td>Surfing</td>\n",
       "      <td>M</td>\n",
       "      <td>NaN</td>\n",
       "      <td>No injury, bumped off board</td>\n",
       "      <td>N</td>\n",
       "      <td>NaN</td>\n",
       "      <td>NaN</td>\n",
       "      <td>3241</td>\n",
       "    </tr>\n",
       "    <tr>\n",
       "      <th>3063</th>\n",
       "      <td>1980.07.00</td>\n",
       "      <td>Early Jul-1980</td>\n",
       "      <td>1980</td>\n",
       "      <td>USA</td>\n",
       "      <td>Surfing</td>\n",
       "      <td>M</td>\n",
       "      <td>NaN</td>\n",
       "      <td>Lower leg bitten</td>\n",
       "      <td>N</td>\n",
       "      <td>NaN</td>\n",
       "      <td>NaN</td>\n",
       "      <td>3240</td>\n",
       "    </tr>\n",
       "    <tr>\n",
       "      <th>3543</th>\n",
       "      <td>1966.12.26</td>\n",
       "      <td>26-Dec-1966</td>\n",
       "      <td>1966</td>\n",
       "      <td>SINGAPORE</td>\n",
       "      <td>Wading</td>\n",
       "      <td>M</td>\n",
       "      <td>39</td>\n",
       "      <td>Thigh bitten</td>\n",
       "      <td>N</td>\n",
       "      <td>Afternoon</td>\n",
       "      <td>NaN</td>\n",
       "      <td>2760</td>\n",
       "    </tr>\n",
       "    <tr>\n",
       "      <th>3544</th>\n",
       "      <td>1966.12.26</td>\n",
       "      <td>26-Dec-1966</td>\n",
       "      <td>1966</td>\n",
       "      <td>AUSTRALIA</td>\n",
       "      <td>Spearfishing</td>\n",
       "      <td>M</td>\n",
       "      <td>29</td>\n",
       "      <td>Right leg bitten</td>\n",
       "      <td>N</td>\n",
       "      <td>NaN</td>\n",
       "      <td>1.8 m [6'] shark</td>\n",
       "      <td>2759</td>\n",
       "    </tr>\n",
       "    <tr>\n",
       "      <th>3814</th>\n",
       "      <td>1962.06.11.b</td>\n",
       "      <td>11-Jun-1962</td>\n",
       "      <td>1962</td>\n",
       "      <td>USA</td>\n",
       "      <td>Escaping from Alacatraz</td>\n",
       "      <td>M</td>\n",
       "      <td>31</td>\n",
       "      <td>2 toes bitten off</td>\n",
       "      <td>N</td>\n",
       "      <td>night</td>\n",
       "      <td>NaN</td>\n",
       "      <td>2489</td>\n",
       "    </tr>\n",
       "    <tr>\n",
       "      <th>3815</th>\n",
       "      <td>1962.06.11.b</td>\n",
       "      <td>11-Jun-1962</td>\n",
       "      <td>1962</td>\n",
       "      <td>USA</td>\n",
       "      <td>Escaping from Alacatraz</td>\n",
       "      <td>M</td>\n",
       "      <td>32</td>\n",
       "      <td>FATAL, but shark involvement uncomfirmed. Deat...</td>\n",
       "      <td>Y</td>\n",
       "      <td>Night</td>\n",
       "      <td>NaN</td>\n",
       "      <td>2488</td>\n",
       "    </tr>\n",
       "    <tr>\n",
       "      <th>5213</th>\n",
       "      <td>1923.00.00.a</td>\n",
       "      <td>1923</td>\n",
       "      <td>1923</td>\n",
       "      <td>USA</td>\n",
       "      <td>Hoisting shark aboard fishing boat</td>\n",
       "      <td>M</td>\n",
       "      <td>NaN</td>\n",
       "      <td>Shark's tail broke his leg. PROVOKED INCIDENT</td>\n",
       "      <td>N</td>\n",
       "      <td>NaN</td>\n",
       "      <td>NaN</td>\n",
       "      <td>1090</td>\n",
       "    </tr>\n",
       "    <tr>\n",
       "      <th>5214</th>\n",
       "      <td>1923.00.00.a</td>\n",
       "      <td>1923</td>\n",
       "      <td>1922</td>\n",
       "      <td>USA</td>\n",
       "      <td>Hoisting shark aboard fishing boat</td>\n",
       "      <td>M</td>\n",
       "      <td>NaN</td>\n",
       "      <td>Shark's tail broke his leg. PROVOKED INCIDENT</td>\n",
       "      <td>N</td>\n",
       "      <td>NaN</td>\n",
       "      <td>NaN</td>\n",
       "      <td>1089</td>\n",
       "    </tr>\n",
       "    <tr>\n",
       "      <th>5260</th>\n",
       "      <td>1920.00.00.b</td>\n",
       "      <td>1920s</td>\n",
       "      <td>1920</td>\n",
       "      <td>JAMAICA</td>\n",
       "      <td>Jumped overboard</td>\n",
       "      <td>M</td>\n",
       "      <td>NaN</td>\n",
       "      <td>FATAL</td>\n",
       "      <td>Y</td>\n",
       "      <td>NaN</td>\n",
       "      <td>NaN</td>\n",
       "      <td>1043</td>\n",
       "    </tr>\n",
       "    <tr>\n",
       "      <th>5261</th>\n",
       "      <td>1920.00.00.b</td>\n",
       "      <td>1920</td>\n",
       "      <td>1920</td>\n",
       "      <td>NEW ZEALAND</td>\n",
       "      <td>NaN</td>\n",
       "      <td>F</td>\n",
       "      <td>NaN</td>\n",
       "      <td>\"Recovered\"</td>\n",
       "      <td>N</td>\n",
       "      <td>NaN</td>\n",
       "      <td>NaN</td>\n",
       "      <td>1042</td>\n",
       "    </tr>\n",
       "    <tr>\n",
       "      <th>5322</th>\n",
       "      <td>1915.07.06.a.R</td>\n",
       "      <td>Reported 06-Jul-1915</td>\n",
       "      <td>1915</td>\n",
       "      <td>MEXICO</td>\n",
       "      <td>Fishing</td>\n",
       "      <td>M</td>\n",
       "      <td>NaN</td>\n",
       "      <td>FATAL</td>\n",
       "      <td>Y</td>\n",
       "      <td>NaN</td>\n",
       "      <td>NaN</td>\n",
       "      <td>981</td>\n",
       "    </tr>\n",
       "    <tr>\n",
       "      <th>5323</th>\n",
       "      <td>1915.07.06.a.R</td>\n",
       "      <td>Reported 06-Jul-1915</td>\n",
       "      <td>1915</td>\n",
       "      <td>MEXICO</td>\n",
       "      <td>Wading</td>\n",
       "      <td>M</td>\n",
       "      <td>NaN</td>\n",
       "      <td>FATAL</td>\n",
       "      <td>Y</td>\n",
       "      <td>NaN</td>\n",
       "      <td>NaN</td>\n",
       "      <td>980</td>\n",
       "    </tr>\n",
       "    <tr>\n",
       "      <th>5354</th>\n",
       "      <td>1913.08.27.R</td>\n",
       "      <td>Reported 27-Aug-1913</td>\n",
       "      <td>1913</td>\n",
       "      <td>USA</td>\n",
       "      <td>NaN</td>\n",
       "      <td>M</td>\n",
       "      <td>NaN</td>\n",
       "      <td>Man's leg recovered from 800-lb shark</td>\n",
       "      <td>NaN</td>\n",
       "      <td>NaN</td>\n",
       "      <td>Shark involvement prior to death unconfirmed</td>\n",
       "      <td>949</td>\n",
       "    </tr>\n",
       "    <tr>\n",
       "      <th>5355</th>\n",
       "      <td>1913.08.27.R</td>\n",
       "      <td>Reported 27-Aug-1913</td>\n",
       "      <td>1913</td>\n",
       "      <td>USA</td>\n",
       "      <td>NaN</td>\n",
       "      <td>F</td>\n",
       "      <td>NaN</td>\n",
       "      <td>Female foot recovered from shark</td>\n",
       "      <td>NaN</td>\n",
       "      <td>NaN</td>\n",
       "      <td>Shark involvement prior to death unconfirmed</td>\n",
       "      <td>948</td>\n",
       "    </tr>\n",
       "    <tr>\n",
       "      <th>5443</th>\n",
       "      <td>1907.10.16.R</td>\n",
       "      <td>Reported 16-Oct-1907</td>\n",
       "      <td>1907</td>\n",
       "      <td>CHINA</td>\n",
       "      <td>Fishing</td>\n",
       "      <td>M</td>\n",
       "      <td>NaN</td>\n",
       "      <td>3 of thel 5 were injured, one of whom lost bot...</td>\n",
       "      <td>N</td>\n",
       "      <td>NaN</td>\n",
       "      <td>Shark involvement probable</td>\n",
       "      <td>860</td>\n",
       "    </tr>\n",
       "    <tr>\n",
       "      <th>5444</th>\n",
       "      <td>1907.10.16.R</td>\n",
       "      <td>Reported 16-Oct-1907</td>\n",
       "      <td>1907</td>\n",
       "      <td>CHINA</td>\n",
       "      <td>Fishing</td>\n",
       "      <td>M</td>\n",
       "      <td>NaN</td>\n",
       "      <td>2 of the 5 fishermen were so seriously injure...</td>\n",
       "      <td>Y</td>\n",
       "      <td>NaN</td>\n",
       "      <td>Shark involvement probable</td>\n",
       "      <td>859</td>\n",
       "    </tr>\n",
       "  </tbody>\n",
       "</table>\n",
       "</div>"
      ],
      "text/plain": [
       "         CASE NUMBER                  DATE  YEAR       COUNTRY  \\\n",
       "522       2014.08.02           02-Aug-2014  2014           USA   \n",
       "523       2014.08.02           02-Aug-2014  2014           USA   \n",
       "615       2013.10.05           06-Oct-2013  2013           USA   \n",
       "616       2013.10.05           10-Oct-2013  2013           USA   \n",
       "746     2012.09.02.b           02-Sep-2012  2012           USA   \n",
       "747     2012.09.02.b           02-Sep-2012  2012           USA   \n",
       "1063      2009.12.18           18-Dec-2009  2009  SOUTH AFRICA   \n",
       "1064      2009.12.18           18-Dec-2009  2009  SOUTH AFRICA   \n",
       "1436      2006.09.02           02-Sep-2006  2006           USA   \n",
       "1437      2006.09.02           02-Sep-2006  2006  SOUTH AFRICA   \n",
       "1599      2005.04.06           06-Apr-2005  2005           USA   \n",
       "1600      2005.04.06           06-Apr-2005  2005      HONDURAS   \n",
       "2634      1990.05.10           10-May-1990  1990     AUSTRALIA   \n",
       "2635      1990.05.10           10-May-1990  1990     AUSTRALIA   \n",
       "2937      1983.06.15           15-Jun-1983  1983       BAHAMAS   \n",
       "2938      1983.06.15           15-Jun-1983  1983         ITALY   \n",
       "3062      1980.07.00         Late Jul-1980  1980           USA   \n",
       "3063      1980.07.00        Early Jul-1980  1980           USA   \n",
       "3543      1966.12.26           26-Dec-1966  1966     SINGAPORE   \n",
       "3544      1966.12.26           26-Dec-1966  1966     AUSTRALIA   \n",
       "3814    1962.06.11.b           11-Jun-1962  1962           USA   \n",
       "3815    1962.06.11.b           11-Jun-1962  1962           USA   \n",
       "5213    1923.00.00.a                  1923  1923           USA   \n",
       "5214    1923.00.00.a                  1923  1922           USA   \n",
       "5260    1920.00.00.b                 1920s  1920       JAMAICA   \n",
       "5261    1920.00.00.b                  1920  1920   NEW ZEALAND   \n",
       "5322  1915.07.06.a.R  Reported 06-Jul-1915  1915        MEXICO   \n",
       "5323  1915.07.06.a.R  Reported 06-Jul-1915  1915        MEXICO   \n",
       "5354    1913.08.27.R  Reported 27-Aug-1913  1913           USA   \n",
       "5355    1913.08.27.R  Reported 27-Aug-1913  1913           USA   \n",
       "5443    1907.10.16.R  Reported 16-Oct-1907  1907         CHINA   \n",
       "5444    1907.10.16.R  Reported 16-Oct-1907  1907         CHINA   \n",
       "\n",
       "                                 ACTIVITY  SEX       AGE  \\\n",
       "522                               Surfing    M       50s   \n",
       "523                       Boogie boarding    M         8   \n",
       "615                               Surfing    M        45   \n",
       "616                                Wading    M        12   \n",
       "746                       Boogie boarding    F         8   \n",
       "747                          Spearfishing  NaN       NaN   \n",
       "1063                Paddling on kneeboard    M        22   \n",
       "1064                              Surfing    M       NaN   \n",
       "1436                             Swimming    M  12 or 13   \n",
       "1437                              Surfing    M        37   \n",
       "1599                                  NaN    F       NaN   \n",
       "1600                         SCUBA Diving    F       NaN   \n",
       "2634                           Snorkeling    F       30s   \n",
       "2635  Snorkeling, possibly holding a fish    M       30s   \n",
       "2937                                  NaN    M        30   \n",
       "2938                         Scuba diving    M       NaN   \n",
       "3062                              Surfing    M       NaN   \n",
       "3063                              Surfing    M       NaN   \n",
       "3543                               Wading    M        39   \n",
       "3544                         Spearfishing    M        29   \n",
       "3814              Escaping from Alacatraz    M        31   \n",
       "3815              Escaping from Alacatraz    M        32   \n",
       "5213   Hoisting shark aboard fishing boat    M       NaN   \n",
       "5214   Hoisting shark aboard fishing boat    M       NaN   \n",
       "5260                     Jumped overboard    M       NaN   \n",
       "5261                                  NaN    F       NaN   \n",
       "5322                              Fishing    M       NaN   \n",
       "5323                               Wading    M       NaN   \n",
       "5354                                  NaN    M       NaN   \n",
       "5355                                  NaN    F       NaN   \n",
       "5443                              Fishing    M       NaN   \n",
       "5444                              Fishing    M       NaN   \n",
       "\n",
       "                                                 INJURY FATAL (Y/N)  \\\n",
       "522                                         Foot bitten           N   \n",
       "523                                 Laceration to ankle           N   \n",
       "615                                 Laceration to thigh           N   \n",
       "616                       Lacerations to  right forearm           N   \n",
       "746                    Puncture wounds to calf and hand           N   \n",
       "747         Minor laceration to hand  PROVOKED INCIDENT           N   \n",
       "1063                                              FATAL           Y   \n",
       "1064  Minor lacerations to left leg. nitially report...         NaN   \n",
       "1436                                         Arm bitten           N   \n",
       "1437                  No injury, shark rammed surfboard           N   \n",
       "1599                                  Left calf injured           N   \n",
       "1600  Laceration on siide of calf, small laceration ...         NaN   \n",
       "2634                                        Lacerations           N   \n",
       "2635                                        Lacerations           N   \n",
       "2937                         Lacerations to hand & foot           N   \n",
       "2938  No injury, 3 m shark \"harassed\" him at depth o...         NaN   \n",
       "3062                        No injury, bumped off board           N   \n",
       "3063                                   Lower leg bitten           N   \n",
       "3543                                       Thigh bitten           N   \n",
       "3544                                   Right leg bitten           N   \n",
       "3814                                 2 toes bitten off            N   \n",
       "3815  FATAL, but shark involvement uncomfirmed. Deat...           Y   \n",
       "5213      Shark's tail broke his leg. PROVOKED INCIDENT           N   \n",
       "5214      Shark's tail broke his leg. PROVOKED INCIDENT           N   \n",
       "5260                                              FATAL           Y   \n",
       "5261                                        \"Recovered\"           N   \n",
       "5322                                              FATAL           Y   \n",
       "5323                                              FATAL           Y   \n",
       "5354              Man's leg recovered from 800-lb shark         NaN   \n",
       "5355                   Female foot recovered from shark         NaN   \n",
       "5443  3 of thel 5 were injured, one of whom lost bot...           N   \n",
       "5444   2 of the 5 fishermen were so seriously injure...           Y   \n",
       "\n",
       "           TIME                                       SPECIES ORIGINAL ORDER  \n",
       "522         NaN                                           NaN           5781  \n",
       "523       13h00                                           NaN           5780  \n",
       "615       08h45                        White shark, 8' to 10'           5688  \n",
       "616       15h30                              Small bull shark           5687  \n",
       "746       18h30                              3.5' to 4' shark           5557  \n",
       "747       12h00                      Tiger shark, 10' to 12'            5556  \n",
       "1063      14h30                                           NaN           5240  \n",
       "1064        NaN                          No shark involvement           5239  \n",
       "1436      17h55                                           NaN           4867  \n",
       "1437        NaN                            White shark, 3.5m            4866  \n",
       "1599        NaN                        small hammerhead shark           4704  \n",
       "1600        NaN               Shark involvement not confirmed           4703  \n",
       "2634        NaN                                2 m hammerhead           3669  \n",
       "2635        NaN                                2 m hammerhead           3668  \n",
       "2937      11h00                             6' blacktip shark           3366  \n",
       "2938        NaN                         Questionable incident           3365  \n",
       "3062        NaN                                           NaN           3241  \n",
       "3063        NaN                                           NaN           3240  \n",
       "3543  Afternoon                                           NaN           2760  \n",
       "3544        NaN                              1.8 m [6'] shark           2759  \n",
       "3814      night                                           NaN           2489  \n",
       "3815      Night                                           NaN           2488  \n",
       "5213        NaN                                           NaN           1090  \n",
       "5214        NaN                                           NaN           1089  \n",
       "5260        NaN                                           NaN           1043  \n",
       "5261        NaN                                           NaN           1042  \n",
       "5322        NaN                                           NaN            981  \n",
       "5323        NaN                                           NaN            980  \n",
       "5354        NaN  Shark involvement prior to death unconfirmed            949  \n",
       "5355        NaN  Shark involvement prior to death unconfirmed            948  \n",
       "5443        NaN                    Shark involvement probable            860  \n",
       "5444        NaN                    Shark involvement probable            859  "
      ]
     },
     "execution_count": 13,
     "metadata": {},
     "output_type": "execute_result"
    }
   ],
   "source": [
    "data[ids.isin(ids[ids.duplicated()])] "
   ]
  },
  {
   "cell_type": "code",
   "execution_count": 14,
   "metadata": {},
   "outputs": [],
   "source": [
    "ids = data[\"ORIGINAL ORDER\"]  #Quiero chequear si Case Number tiene valores duplicados, o me puede valer como ID"
   ]
  },
  {
   "cell_type": "code",
   "execution_count": 15,
   "metadata": {},
   "outputs": [
    {
     "data": {
      "text/html": [
       "<div>\n",
       "<style scoped>\n",
       "    .dataframe tbody tr th:only-of-type {\n",
       "        vertical-align: middle;\n",
       "    }\n",
       "\n",
       "    .dataframe tbody tr th {\n",
       "        vertical-align: top;\n",
       "    }\n",
       "\n",
       "    .dataframe thead th {\n",
       "        text-align: right;\n",
       "    }\n",
       "</style>\n",
       "<table border=\"1\" class=\"dataframe\">\n",
       "  <thead>\n",
       "    <tr style=\"text-align: right;\">\n",
       "      <th></th>\n",
       "      <th>CASE NUMBER</th>\n",
       "      <th>DATE</th>\n",
       "      <th>YEAR</th>\n",
       "      <th>COUNTRY</th>\n",
       "      <th>ACTIVITY</th>\n",
       "      <th>SEX</th>\n",
       "      <th>AGE</th>\n",
       "      <th>INJURY</th>\n",
       "      <th>FATAL (Y/N)</th>\n",
       "      <th>TIME</th>\n",
       "      <th>SPECIES</th>\n",
       "      <th>ORIGINAL ORDER</th>\n",
       "    </tr>\n",
       "  </thead>\n",
       "  <tbody>\n",
       "    <tr>\n",
       "      <th>5733</th>\n",
       "      <td>1888.01.22</td>\n",
       "      <td>22-Jan-1888</td>\n",
       "      <td>1888</td>\n",
       "      <td>AUSTRALIA</td>\n",
       "      <td>Rowing</td>\n",
       "      <td>M</td>\n",
       "      <td>NaN</td>\n",
       "      <td>Shark bit boat, but no injury to occupant who ...</td>\n",
       "      <td>N</td>\n",
       "      <td>NaN</td>\n",
       "      <td>NaN</td>\n",
       "      <td>569</td>\n",
       "    </tr>\n",
       "    <tr>\n",
       "      <th>5734</th>\n",
       "      <td>1888.02.00</td>\n",
       "      <td>Feb-1888</td>\n",
       "      <td>1888</td>\n",
       "      <td>SOUTH AFRICA</td>\n",
       "      <td>Crossing the river mouth</td>\n",
       "      <td>M</td>\n",
       "      <td>NaN</td>\n",
       "      <td>FATAL</td>\n",
       "      <td>Y</td>\n",
       "      <td>NaN</td>\n",
       "      <td>NaN</td>\n",
       "      <td>569</td>\n",
       "    </tr>\n",
       "  </tbody>\n",
       "</table>\n",
       "</div>"
      ],
      "text/plain": [
       "     CASE NUMBER         DATE  YEAR       COUNTRY                  ACTIVITY  \\\n",
       "5733  1888.01.22  22-Jan-1888  1888     AUSTRALIA                    Rowing   \n",
       "5734  1888.02.00     Feb-1888  1888  SOUTH AFRICA  Crossing the river mouth   \n",
       "\n",
       "     SEX  AGE                                             INJURY FATAL (Y/N)  \\\n",
       "5733   M  NaN  Shark bit boat, but no injury to occupant who ...           N   \n",
       "5734   M  NaN                                              FATAL           Y   \n",
       "\n",
       "     TIME SPECIES ORIGINAL ORDER  \n",
       "5733  NaN     NaN            569  \n",
       "5734  NaN     NaN            569  "
      ]
     },
     "execution_count": 15,
     "metadata": {},
     "output_type": "execute_result"
    }
   ],
   "source": [
    "data[ids.isin(ids[ids.duplicated()])] "
   ]
  },
  {
   "cell_type": "code",
   "execution_count": 16,
   "metadata": {},
   "outputs": [],
   "source": [
    "data = data.drop(['CASE NUMBER', 'ORIGINAL ORDER'], axis=1) #Como tiene duplicados, me la cargo, no me sirve."
   ]
  },
  {
   "cell_type": "markdown",
   "metadata": {},
   "source": [
    "data = data.dropna(axis = 0, how=\"any\")\n",
    "data"
   ]
  },
  {
   "cell_type": "code",
   "execution_count": 17,
   "metadata": {},
   "outputs": [
    {
     "data": {
      "text/html": [
       "<div>\n",
       "<style scoped>\n",
       "    .dataframe tbody tr th:only-of-type {\n",
       "        vertical-align: middle;\n",
       "    }\n",
       "\n",
       "    .dataframe tbody tr th {\n",
       "        vertical-align: top;\n",
       "    }\n",
       "\n",
       "    .dataframe thead th {\n",
       "        text-align: right;\n",
       "    }\n",
       "</style>\n",
       "<table border=\"1\" class=\"dataframe\">\n",
       "  <thead>\n",
       "    <tr style=\"text-align: right;\">\n",
       "      <th></th>\n",
       "      <th>DATE</th>\n",
       "      <th>YEAR</th>\n",
       "      <th>COUNTRY</th>\n",
       "      <th>ACTIVITY</th>\n",
       "      <th>SEX</th>\n",
       "      <th>AGE</th>\n",
       "      <th>INJURY</th>\n",
       "      <th>FATAL (Y/N)</th>\n",
       "      <th>TIME</th>\n",
       "      <th>SPECIES</th>\n",
       "    </tr>\n",
       "  </thead>\n",
       "  <tbody>\n",
       "    <tr>\n",
       "      <th>0</th>\n",
       "      <td>25-Jun-2018</td>\n",
       "      <td>2018</td>\n",
       "      <td>USA</td>\n",
       "      <td>Paddling</td>\n",
       "      <td>F</td>\n",
       "      <td>57</td>\n",
       "      <td>No injury to occupant, outrigger canoe and pad...</td>\n",
       "      <td>N</td>\n",
       "      <td>18h00</td>\n",
       "      <td>White shark</td>\n",
       "    </tr>\n",
       "    <tr>\n",
       "      <th>1</th>\n",
       "      <td>18-Jun-2018</td>\n",
       "      <td>2018</td>\n",
       "      <td>USA</td>\n",
       "      <td>Standing</td>\n",
       "      <td>F</td>\n",
       "      <td>11</td>\n",
       "      <td>Minor injury to left thigh</td>\n",
       "      <td>N</td>\n",
       "      <td>14h00  -15h00</td>\n",
       "      <td>0</td>\n",
       "    </tr>\n",
       "    <tr>\n",
       "      <th>2</th>\n",
       "      <td>09-Jun-2018</td>\n",
       "      <td>2018</td>\n",
       "      <td>USA</td>\n",
       "      <td>Surfing</td>\n",
       "      <td>M</td>\n",
       "      <td>48</td>\n",
       "      <td>Injury to left lower leg from surfboard skeg</td>\n",
       "      <td>N</td>\n",
       "      <td>07h45</td>\n",
       "      <td>0</td>\n",
       "    </tr>\n",
       "    <tr>\n",
       "      <th>3</th>\n",
       "      <td>08-Jun-2018</td>\n",
       "      <td>2018</td>\n",
       "      <td>AUSTRALIA</td>\n",
       "      <td>Surfing</td>\n",
       "      <td>M</td>\n",
       "      <td>0</td>\n",
       "      <td>Minor injury to lower leg</td>\n",
       "      <td>N</td>\n",
       "      <td>0</td>\n",
       "      <td>2 m shark</td>\n",
       "    </tr>\n",
       "    <tr>\n",
       "      <th>4</th>\n",
       "      <td>04-Jun-2018</td>\n",
       "      <td>2018</td>\n",
       "      <td>MEXICO</td>\n",
       "      <td>Free diving</td>\n",
       "      <td>M</td>\n",
       "      <td>0</td>\n",
       "      <td>Lacerations to leg &amp; hand shark PROVOKED INCIDENT</td>\n",
       "      <td>N</td>\n",
       "      <td>0</td>\n",
       "      <td>Tiger shark, 3m</td>\n",
       "    </tr>\n",
       "    <tr>\n",
       "      <th>...</th>\n",
       "      <td>...</td>\n",
       "      <td>...</td>\n",
       "      <td>...</td>\n",
       "      <td>...</td>\n",
       "      <td>...</td>\n",
       "      <td>...</td>\n",
       "      <td>...</td>\n",
       "      <td>...</td>\n",
       "      <td>...</td>\n",
       "      <td>...</td>\n",
       "    </tr>\n",
       "    <tr>\n",
       "      <th>6297</th>\n",
       "      <td>Before 1903</td>\n",
       "      <td>0000</td>\n",
       "      <td>AUSTRALIA</td>\n",
       "      <td>Diving</td>\n",
       "      <td>M</td>\n",
       "      <td>0</td>\n",
       "      <td>FATAL</td>\n",
       "      <td>Y</td>\n",
       "      <td>0</td>\n",
       "      <td>0</td>\n",
       "    </tr>\n",
       "    <tr>\n",
       "      <th>6298</th>\n",
       "      <td>Before 1903</td>\n",
       "      <td>0000</td>\n",
       "      <td>AUSTRALIA</td>\n",
       "      <td>Pearl diving</td>\n",
       "      <td>M</td>\n",
       "      <td>0</td>\n",
       "      <td>FATAL</td>\n",
       "      <td>Y</td>\n",
       "      <td>0</td>\n",
       "      <td>0</td>\n",
       "    </tr>\n",
       "    <tr>\n",
       "      <th>6299</th>\n",
       "      <td>1900-1905</td>\n",
       "      <td>0000</td>\n",
       "      <td>USA</td>\n",
       "      <td>Swimming</td>\n",
       "      <td>M</td>\n",
       "      <td>0</td>\n",
       "      <td>FATAL</td>\n",
       "      <td>Y</td>\n",
       "      <td>0</td>\n",
       "      <td>0</td>\n",
       "    </tr>\n",
       "    <tr>\n",
       "      <th>6300</th>\n",
       "      <td>1883-1889</td>\n",
       "      <td>0000</td>\n",
       "      <td>PANAMA</td>\n",
       "      <td>0</td>\n",
       "      <td>M</td>\n",
       "      <td>0</td>\n",
       "      <td>FATAL</td>\n",
       "      <td>Y</td>\n",
       "      <td>0</td>\n",
       "      <td>0</td>\n",
       "    </tr>\n",
       "    <tr>\n",
       "      <th>6301</th>\n",
       "      <td>1845-1853</td>\n",
       "      <td>0000</td>\n",
       "      <td>CEYLON (SRI LANKA)</td>\n",
       "      <td>Swimming</td>\n",
       "      <td>M</td>\n",
       "      <td>15</td>\n",
       "      <td>FATAL. \"Shark bit him in half, carrying away t...</td>\n",
       "      <td>Y</td>\n",
       "      <td>0</td>\n",
       "      <td>0</td>\n",
       "    </tr>\n",
       "  </tbody>\n",
       "</table>\n",
       "<p>6302 rows × 10 columns</p>\n",
       "</div>"
      ],
      "text/plain": [
       "             DATE  YEAR             COUNTRY      ACTIVITY SEX AGE  \\\n",
       "0     25-Jun-2018  2018                 USA      Paddling   F  57   \n",
       "1     18-Jun-2018  2018                 USA      Standing   F  11   \n",
       "2     09-Jun-2018  2018                 USA       Surfing   M  48   \n",
       "3     08-Jun-2018  2018           AUSTRALIA       Surfing   M   0   \n",
       "4     04-Jun-2018  2018              MEXICO   Free diving   M   0   \n",
       "...           ...   ...                 ...           ...  ..  ..   \n",
       "6297  Before 1903  0000           AUSTRALIA        Diving   M   0   \n",
       "6298  Before 1903  0000           AUSTRALIA  Pearl diving   M   0   \n",
       "6299    1900-1905  0000                 USA      Swimming   M   0   \n",
       "6300    1883-1889  0000              PANAMA             0   M   0   \n",
       "6301    1845-1853  0000  CEYLON (SRI LANKA)      Swimming   M  15   \n",
       "\n",
       "                                                 INJURY FATAL (Y/N)  \\\n",
       "0     No injury to occupant, outrigger canoe and pad...           N   \n",
       "1                            Minor injury to left thigh           N   \n",
       "2          Injury to left lower leg from surfboard skeg           N   \n",
       "3                             Minor injury to lower leg           N   \n",
       "4     Lacerations to leg & hand shark PROVOKED INCIDENT           N   \n",
       "...                                                 ...         ...   \n",
       "6297                                              FATAL           Y   \n",
       "6298                                              FATAL           Y   \n",
       "6299                                              FATAL           Y   \n",
       "6300                                              FATAL           Y   \n",
       "6301  FATAL. \"Shark bit him in half, carrying away t...           Y   \n",
       "\n",
       "               TIME          SPECIES  \n",
       "0             18h00      White shark  \n",
       "1     14h00  -15h00                0  \n",
       "2             07h45                0  \n",
       "3                 0        2 m shark  \n",
       "4                 0  Tiger shark, 3m  \n",
       "...             ...              ...  \n",
       "6297              0                0  \n",
       "6298              0                0  \n",
       "6299              0                0  \n",
       "6300              0                0  \n",
       "6301              0                0  \n",
       "\n",
       "[6302 rows x 10 columns]"
      ]
     },
     "execution_count": 17,
     "metadata": {},
     "output_type": "execute_result"
    }
   ],
   "source": [
    "data = data.fillna(0)\n",
    "data\n",
    "# Remplazo todos los NaN con 0 "
   ]
  },
  {
   "cell_type": "code",
   "execution_count": 18,
   "metadata": {},
   "outputs": [
    {
     "data": {
      "text/plain": [
       "array(['57', '11', '48', 0, '18', '52', '15', '12', '32', '10', '21',\n",
       "       '34', '30', '60', '33', '29', '54', '41', '37', '56', '19', '25',\n",
       "       '69', '38', '55', '35', '46', '45', '14', '40s', '28', '20', '24',\n",
       "       '26', '49', '22', '7', '31', '17', '40', '13', '42', '3', '8',\n",
       "       '50', '16', '82', '73', '20s', '68', '51', '39', '58', 'Teen',\n",
       "       '47', '61', '65', '36', '66', '43', '60s', '9', '72', '59', '6',\n",
       "       '27', '64', '23', '71', '44', '62', '63', '70', '18 months', '53',\n",
       "       '30s', '50s', 'teen', '77', '74', '28 & 26', '5', '86', '18 or 20',\n",
       "       '12 or 13', '46 & 34', '28, 23 & 30', 'Teens', '36 & 26',\n",
       "       '8 or 10', '84', '\\xa0 ', ' ', '30 or 36', '6½', '21 & ?', '75',\n",
       "       '33 or 37', 'mid-30s', '23 & 20', ' 30', '7      &    31', ' 28',\n",
       "       '20?', \"60's\", '32 & 30', '16 to 18', '87', '67', 'Elderly',\n",
       "       'mid-20s', 'Ca. 33', '74 ', '45 ', '21 or 26', '20 ', '>50',\n",
       "       '18 to 22', 'adult', '9 & 12', '? & 19', '9 months', '25 to 35',\n",
       "       '23 & 26', '1', '(adult)', '33 & 37', '25 or 28',\n",
       "       '37, 67, 35, 27,  ? & 27', '21, 34,24 & 35', '30 & 32', '50 & 30',\n",
       "       '17 & 35', 'X', '\"middle-age\"', '13 or 18', '34 & 19', '33 & 26',\n",
       "       '2 to 3 months', 'MAKE LINE GREEN', ' 43', '81', '\"young\"',\n",
       "       '7 or 8', '78', '17 & 16', 'F', 'Both 11', '9 or 10', 'young',\n",
       "       '36 & 23', '  ', 'A.M.', '?    &   14', '10 or 12', '31 or 33',\n",
       "       '2½', '13 or 14'], dtype=object)"
      ]
     },
     "execution_count": 18,
     "metadata": {},
     "output_type": "execute_result"
    }
   ],
   "source": [
    "data[\"AGE\"].unique() #Examino AGE para ver con que me quiero quedar, que es lo que me vale y que no"
   ]
  },
  {
   "cell_type": "code",
   "execution_count": 19,
   "metadata": {},
   "outputs": [
    {
     "data": {
      "text/plain": [
       "DATE           object\n",
       "YEAR           object\n",
       "COUNTRY        object\n",
       "ACTIVITY       object\n",
       "SEX            object\n",
       "AGE            object\n",
       "INJURY         object\n",
       "FATAL (Y/N)    object\n",
       "TIME           object\n",
       "SPECIES        object\n",
       "dtype: object"
      ]
     },
     "execution_count": 19,
     "metadata": {},
     "output_type": "execute_result"
    }
   ],
   "source": [
    "data.dtypes.astype(str) #compruebo el tipo \n",
    "data.dtypes"
   ]
  },
  {
   "cell_type": "code",
   "execution_count": 20,
   "metadata": {},
   "outputs": [],
   "source": [
    "patron_age = r\"([\\d]+$)\"  #Patron regex"
   ]
  },
  {
   "cell_type": "code",
   "execution_count": 21,
   "metadata": {},
   "outputs": [],
   "source": [
    "data['AGE'] = data['AGE'].astype(str) #Cambio el tipo a str"
   ]
  },
  {
   "cell_type": "code",
   "execution_count": 22,
   "metadata": {},
   "outputs": [],
   "source": [
    "data['AGE'] = data.AGE.apply(lambda x: lt.coincidencia(patron_age, x)) #Ejecuto mi funcion regex "
   ]
  },
  {
   "cell_type": "code",
   "execution_count": 23,
   "metadata": {},
   "outputs": [
    {
     "data": {
      "text/plain": [
       "array(['57', '11', '48', '0', '18', '52', '15', '12', '32', '10', '21',\n",
       "       '34', '30', '60', '33', '29', '54', '41', '37', '56', '19', '25',\n",
       "       '69', '38', '55', '35', '46', '45', '14', 0, '28', '20', '24',\n",
       "       '26', '49', '22', '7', '31', '17', '40', '13', '42', '3', '8',\n",
       "       '50', '16', '82', '73', '68', '51', '39', '58', '47', '61', '65',\n",
       "       '36', '66', '43', '9', '72', '59', '6', '27', '64', '23', '71',\n",
       "       '44', '62', '63', '70', '53', '77', '74', '5', '86', '84', '75',\n",
       "       '87', '67', '1', '81', '78'], dtype=object)"
      ]
     },
     "execution_count": 23,
     "metadata": {},
     "output_type": "execute_result"
    }
   ],
   "source": [
    "data['AGE'].unique() #Me quedo con lo que me interesa"
   ]
  },
  {
   "cell_type": "code",
   "execution_count": 24,
   "metadata": {},
   "outputs": [],
   "source": [
    "data[\"AGE\"] = data[\"AGE\"].replace([None], 0) #remplazo el NaN por un 0 por si quiero examinar cuantos valores tienen 0 con el value_counts()"
   ]
  },
  {
   "cell_type": "code",
   "execution_count": 25,
   "metadata": {},
   "outputs": [],
   "source": [
    "data['AGE'] = data['AGE'].astype(int) #Cambio el AGE a int"
   ]
  },
  {
   "cell_type": "code",
   "execution_count": 26,
   "metadata": {},
   "outputs": [],
   "source": [
    "patron_date = r\"(\\b[a-zA-Z]{3}\\b)\" #Patron regex"
   ]
  },
  {
   "cell_type": "code",
   "execution_count": 27,
   "metadata": {},
   "outputs": [],
   "source": [
    "data['DATE'] = data['DATE'].astype(str)"
   ]
  },
  {
   "cell_type": "code",
   "execution_count": 28,
   "metadata": {},
   "outputs": [],
   "source": [
    "data['MONTHLY'] = data.DATE.apply(lambda x: lt.coincidencia(patron_date, x))"
   ]
  },
  {
   "cell_type": "code",
   "execution_count": 29,
   "metadata": {},
   "outputs": [
    {
     "data": {
      "text/plain": [
       "array(['jun', 'may', 'apr', 'mar', 'feb', 'jan', 'dec', 'nov', 'oct',\n",
       "       'sep', 'aug', 'jul', 0, 'mid', 'and', 'day', 'war', 'the', 'few'],\n",
       "      dtype=object)"
      ]
     },
     "execution_count": 29,
     "metadata": {},
     "output_type": "execute_result"
    }
   ],
   "source": [
    "data['MONTHLY'].unique()"
   ]
  },
  {
   "cell_type": "code",
   "execution_count": 30,
   "metadata": {},
   "outputs": [],
   "source": [
    "data[\"MONTHLY\"] = data[\"MONTHLY\"].replace(['mid', 'and', 'day', 'war', 'the', 'few', None], 0)"
   ]
  },
  {
   "cell_type": "code",
   "execution_count": 31,
   "metadata": {},
   "outputs": [
    {
     "data": {
      "text/plain": [
       "array(['jun', 'may', 'apr', 'mar', 'feb', 'jan', 'dec', 'nov', 'oct',\n",
       "       'sep', 'aug', 'jul', 0], dtype=object)"
      ]
     },
     "execution_count": 31,
     "metadata": {},
     "output_type": "execute_result"
    }
   ],
   "source": [
    "data['MONTHLY'].unique()"
   ]
  },
  {
   "cell_type": "code",
   "execution_count": 32,
   "metadata": {},
   "outputs": [],
   "source": [
    "patron_activity = r'(\\b[a-zA-Z]+urfing\\b|\\b[a-zA-Z]+wimming\\b|\\b[a-zA-Z]+ishing\\b|\\b[a-zA-Z]+pearfishing\\b|\\b[a-zA-Z]+athing\\b|\\b[a-zA-Z]+ading\\b|\\b[a-zA-Z]+iving\\b)'"
   ]
  },
  {
   "cell_type": "code",
   "execution_count": 33,
   "metadata": {},
   "outputs": [],
   "source": [
    "data['ACTIVITY'] = data['ACTIVITY'].astype(str)"
   ]
  },
  {
   "cell_type": "code",
   "execution_count": 34,
   "metadata": {},
   "outputs": [],
   "source": [
    "data['N_ACTIVITY'] = data.ACTIVITY.apply(lambda x: lt.coincidencia(patron_activity, x))"
   ]
  },
  {
   "cell_type": "code",
   "execution_count": 35,
   "metadata": {},
   "outputs": [
    {
     "data": {
      "text/plain": [
       "array([0, 'surfing', 'diving', 'swimming', 'fishing', 'windsurfing',\n",
       "       'wading', 'spearfishing', 'bathing', 'treading', 'bodysurfing',\n",
       "       'kitesurfing', 'crayfishing', 'reviving', 'scurfing', 'freediving',\n",
       "       'skindiving', 'sunbathing', 'reading', 'loading'], dtype=object)"
      ]
     },
     "execution_count": 35,
     "metadata": {},
     "output_type": "execute_result"
    }
   ],
   "source": [
    "data['N_ACTIVITY'].unique() #Me quedo con lo que me interesa"
   ]
  },
  {
   "cell_type": "code",
   "execution_count": 36,
   "metadata": {},
   "outputs": [],
   "source": [
    "data[\"N_ACTIVITY\"] = data[\"N_ACTIVITY\"].replace(['loading', None], 0)"
   ]
  },
  {
   "cell_type": "code",
   "execution_count": 37,
   "metadata": {},
   "outputs": [
    {
     "data": {
      "text/plain": [
       "0               1981\n",
       "swimming        1106\n",
       "surfing         1094\n",
       "fishing          725\n",
       "diving           531\n",
       "spearfishing     409\n",
       "bathing          190\n",
       "wading           170\n",
       "treading          39\n",
       "windsurfing       21\n",
       "freediving        14\n",
       "skindiving        11\n",
       "crayfishing        3\n",
       "reading            2\n",
       "kitesurfing        2\n",
       "sunbathing         1\n",
       "reviving           1\n",
       "scurfing           1\n",
       "bodysurfing        1\n",
       "Name: N_ACTIVITY, dtype: int64"
      ]
     },
     "execution_count": 37,
     "metadata": {},
     "output_type": "execute_result"
    }
   ],
   "source": [
    "data[\"N_ACTIVITY\"].value_counts() #Miro cuantos valores tengo de cada uno"
   ]
  },
  {
   "cell_type": "code",
   "execution_count": 38,
   "metadata": {},
   "outputs": [
    {
     "data": {
      "text/plain": [
       "N_ACTIVITY     0\n",
       "MONTHLY        0\n",
       "SPECIES        0\n",
       "TIME           0\n",
       "FATAL (Y/N)    0\n",
       "INJURY         0\n",
       "AGE            0\n",
       "SEX            0\n",
       "ACTIVITY       0\n",
       "COUNTRY        0\n",
       "YEAR           0\n",
       "DATE           0\n",
       "dtype: int64"
      ]
     },
     "execution_count": 38,
     "metadata": {},
     "output_type": "execute_result"
    }
   ],
   "source": [
    "lt.isnull(data)"
   ]
  },
  {
   "cell_type": "code",
   "execution_count": 39,
   "metadata": {},
   "outputs": [
    {
     "data": {
      "text/plain": [
       "array(['F', 'M', 0, 'M ', 'lli', 'N', '.'], dtype=object)"
      ]
     },
     "execution_count": 39,
     "metadata": {},
     "output_type": "execute_result"
    }
   ],
   "source": [
    "data[\"SEX\"].unique()"
   ]
  },
  {
   "cell_type": "code",
   "execution_count": 40,
   "metadata": {},
   "outputs": [],
   "source": [
    "data[\"SEX\"] = data[\"SEX\"].replace([\"lli\", \"N\", \".\", None], 0)\n",
    "data[\"SEX\"] = data[\"SEX\"].replace([\"M \"], \"M\")"
   ]
  },
  {
   "cell_type": "code",
   "execution_count": 41,
   "metadata": {},
   "outputs": [
    {
     "data": {
      "text/plain": [
       "array(['F', 'M', 0], dtype=object)"
      ]
     },
     "execution_count": 41,
     "metadata": {},
     "output_type": "execute_result"
    }
   ],
   "source": [
    "data[\"SEX\"].unique()"
   ]
  },
  {
   "cell_type": "code",
   "execution_count": 42,
   "metadata": {},
   "outputs": [
    {
     "data": {
      "text/plain": [
       "jul    662\n",
       "aug    598\n",
       "sep    552\n",
       "0      552\n",
       "jan    518\n",
       "jun    494\n",
       "apr    453\n",
       "oct    442\n",
       "dec    436\n",
       "mar    412\n",
       "nov    406\n",
       "may    396\n",
       "feb    381\n",
       "Name: MONTHLY, dtype: int64"
      ]
     },
     "execution_count": 42,
     "metadata": {},
     "output_type": "execute_result"
    }
   ],
   "source": [
    "data[\"MONTHLY\"].value_counts()"
   ]
  },
  {
   "cell_type": "code",
   "execution_count": 43,
   "metadata": {},
   "outputs": [
    {
     "data": {
      "text/plain": [
       "array(['N', 'Y', 0, 'M', 'UNKNOWN', '2017', ' N', 'N ', 'y'], dtype=object)"
      ]
     },
     "execution_count": 43,
     "metadata": {},
     "output_type": "execute_result"
    }
   ],
   "source": [
    "data[\"FATAL (Y/N)\"].unique()"
   ]
  },
  {
   "cell_type": "code",
   "execution_count": 47,
   "metadata": {},
   "outputs": [],
   "source": [
    "data[\"FATAL (Y/N)\"] = data[\"FATAL (Y/N)\"].replace([\"UNKNOWN\", \"2017\", \"M\", ', ', 'y', None], 0)\n",
    "data[\"FATAL (Y/N)\"] = data[\"FATAL (Y/N)\"].replace([\" N\", 'N '], \"N\")"
   ]
  },
  {
   "cell_type": "code",
   "execution_count": 48,
   "metadata": {},
   "outputs": [
    {
     "data": {
      "text/plain": [
       "array(['N', 'Y', 0], dtype=object)"
      ]
     },
     "execution_count": 48,
     "metadata": {},
     "output_type": "execute_result"
    }
   ],
   "source": [
    "data[\"FATAL_Y_N\"].unique()"
   ]
  },
  {
   "cell_type": "code",
   "execution_count": 49,
   "metadata": {},
   "outputs": [],
   "source": [
    "data[\"FATAL_Y_N\"] = data[\"FATAL (Y/N)\"]"
   ]
  },
  {
   "cell_type": "code",
   "execution_count": 50,
   "metadata": {},
   "outputs": [],
   "source": [
    "patron_time = r'(^\\d{2})'"
   ]
  },
  {
   "cell_type": "code",
   "execution_count": 51,
   "metadata": {},
   "outputs": [],
   "source": [
    "data['TIME'] = data['TIME'].astype(str)"
   ]
  },
  {
   "cell_type": "code",
   "execution_count": 52,
   "metadata": {},
   "outputs": [],
   "source": [
    "data['N_TIME'] = data.TIME.apply(lambda x: lt.coincidencia(patron_time, x))"
   ]
  },
  {
   "cell_type": "code",
   "execution_count": 53,
   "metadata": {},
   "outputs": [
    {
     "data": {
      "text/plain": [
       "array(['18', '14', '07', 0, '17', '15', '08', '11', '10', '16', '09',\n",
       "       '21', '19', '12', '13', '23', '06', '02', '22', '04', '05', '03',\n",
       "       '20', '00', '30', '01'], dtype=object)"
      ]
     },
     "execution_count": 53,
     "metadata": {},
     "output_type": "execute_result"
    }
   ],
   "source": [
    "data['N_TIME'].unique()"
   ]
  },
  {
   "cell_type": "code",
   "execution_count": 54,
   "metadata": {},
   "outputs": [],
   "source": [
    "data[\"N_TIME\"] = data[\"N_TIME\"].replace([None], 0)"
   ]
  },
  {
   "cell_type": "code",
   "execution_count": 55,
   "metadata": {},
   "outputs": [],
   "source": [
    "patron_species = r'\\b[W-w]hite\\b|\\b[T-t]iger\\b|\\b[B-b]ull\\b|\\b[W-w]obbegong\\b|\\b[B-b]lacktip\\b|\\b[B-b]lue\\b|\\b[N-n]urse\\b|\\b[R-r]eef\\b'"
   ]
  },
  {
   "cell_type": "code",
   "execution_count": 56,
   "metadata": {},
   "outputs": [],
   "source": [
    "data['SPECIES'] = data['SPECIES'].astype(str)"
   ]
  },
  {
   "cell_type": "code",
   "execution_count": 57,
   "metadata": {},
   "outputs": [],
   "source": [
    "data['N_SPECIES'] = data.SPECIES.apply(lambda x: lt.coincidencia(patron_species, x))"
   ]
  },
  {
   "cell_type": "code",
   "execution_count": 58,
   "metadata": {},
   "outputs": [
    {
     "data": {
      "text/plain": [
       "array(['white', 0, 'tiger', 'bull', 'reef', 'nurse', 'wobbegong',\n",
       "       'blacktip', 'blue'], dtype=object)"
      ]
     },
     "execution_count": 58,
     "metadata": {},
     "output_type": "execute_result"
    }
   ],
   "source": [
    "data['N_SPECIES'].unique()"
   ]
  },
  {
   "cell_type": "code",
   "execution_count": 59,
   "metadata": {},
   "outputs": [],
   "source": [
    "data[\"N_SPECIES\"] = data[\"N_SPECIES\"].replace([None], 0)"
   ]
  },
  {
   "cell_type": "code",
   "execution_count": 60,
   "metadata": {},
   "outputs": [],
   "source": [
    "data[\"N_SPECIES\"] = data[\"N_SPECIES\"].replace(['white','tiger', 'bull', 'reef', 'blacktip', 'nurse', 'wobbegong', 'blue'], ['White', 'Tiger', 'Bull', 'Reef', 'Blacktip', 'Nurse', 'Wobbegong', 'Blue'])"
   ]
  },
  {
   "cell_type": "code",
   "execution_count": 61,
   "metadata": {},
   "outputs": [
    {
     "data": {
      "text/plain": [
       "0            4866\n",
       "White         638\n",
       "Tiger         256\n",
       "Bull          184\n",
       "Blacktip      101\n",
       "Nurse          97\n",
       "Blue           56\n",
       "Reef           55\n",
       "Wobbegong      49\n",
       "Name: N_SPECIES, dtype: int64"
      ]
     },
     "execution_count": 61,
     "metadata": {},
     "output_type": "execute_result"
    }
   ],
   "source": [
    "data['N_SPECIES'].value_counts()"
   ]
  },
  {
   "cell_type": "code",
   "execution_count": 62,
   "metadata": {},
   "outputs": [
    {
     "data": {
      "text/plain": [
       "array(['2018', '2017', 0, '2016', '2015', '2015.00', '2014', '2013',\n",
       "       '2012', '2011', '2010', '2009', '2008', '2007', '2006', '2005',\n",
       "       '2004', '2003', '2002', '2001', '2000', '1999', '1998', '1997',\n",
       "       '1996', '1995', '1984', '1994', '1993', '1992', '1991', '1990',\n",
       "       '1989', '1969', '1988', '1987', '1986', '1985', '1983', '1982',\n",
       "       '1981', '1980', '1979', '1978', '1977', '1976', '1975', '1974',\n",
       "       '1973', '1972', '1971', '1970', '1968', '1967', '1966', '1965',\n",
       "       '1964', '1963', '1962', '1961', '1960', '1959', '1958', '1957',\n",
       "       '1956', '1955', '1954', '1953', '1952', '1951', '1950', '1949',\n",
       "       '1948', '1848', '1947', '1946', '1945', '1944', '1943', '1942',\n",
       "       '1941', '1940', '1939', '1938', '1937', '1936', '1935', '1934',\n",
       "       '1933', '1932', '1931', '1930', '1929', '1928', '1927', '1926',\n",
       "       '1925', '1924', '1923', '1922', '1921', '1920', '1919', '1918',\n",
       "       '1917', '1916', '1915', '1914', '1913', '1912', '1911', '1910',\n",
       "       '1909', '1908', '1907', '1906', '1905', '1904', '1903', '1902',\n",
       "       '1901', '1900', '1899', '1898', '1897', '1896', '1895', '1894',\n",
       "       '1893', '1892', '1891', '1890', '1889', '1888', '1887', '1886',\n",
       "       '1885', '1884', '1883', '1882', '1881', '1880', '1879', '1878',\n",
       "       '1877', '1876', '1875', '1874', '1873', '1872', '1871', '1870',\n",
       "       '1869', '1868', '1867', '1866', '1865', '1864', '1863', '1862',\n",
       "       '1861', '1860', '1859', '1858', '1857', '1856', '1855', '1853',\n",
       "       '1852', '1851', '1850', '1849', '1847', '1846', '1845', '1844',\n",
       "       '1842', '1841', '1840', '1839', '1837', '1836', '1835', '1834',\n",
       "       '1832', '1831', '1830', '1829', '1828', '1827', '1826', '1825',\n",
       "       '1823', '1822', '1819', '1818', '1817', '1816', '1815', '1812',\n",
       "       '1811', '1810', '1808', '1807', '1805', '1804', '1803', '1802',\n",
       "       '1801', '1800', '1797', '1792', '1791', '1788', '1787', '1786',\n",
       "       '1785', '1784', '1783', '1780', '1779', '1776', '1771', '1767',\n",
       "       '1764', '1758', '1753', '1751', '1749', '1755', '1748', '1742',\n",
       "       '1738', '1733', '1723', '1721', '1703', '1700', '1642', '1638',\n",
       "       '1637', '1617', '1595', '1580', '1555', '1554', '1543', '0500',\n",
       "       '0077', '0005', '0000'], dtype=object)"
      ]
     },
     "execution_count": 62,
     "metadata": {},
     "output_type": "execute_result"
    }
   ],
   "source": [
    "data['YEAR'].unique()"
   ]
  },
  {
   "cell_type": "code",
   "execution_count": 63,
   "metadata": {},
   "outputs": [],
   "source": [
    "data[\"YEAR\"] = data[\"YEAR\"].replace(['0077', '0005','0000','0500', None], 0)"
   ]
  },
  {
   "cell_type": "code",
   "execution_count": 64,
   "metadata": {},
   "outputs": [],
   "source": [
    "patron_injury = r'\\b[L-l]eg\\b|\\b[A-a]rm\\b|\\b[H-h]ead\\b|\\b[H-h]and\\b|\\b[F-f]oot\\b'"
   ]
  },
  {
   "cell_type": "code",
   "execution_count": 65,
   "metadata": {},
   "outputs": [],
   "source": [
    "data['INJURY'] = data['INJURY'].astype(str)"
   ]
  },
  {
   "cell_type": "code",
   "execution_count": 66,
   "metadata": {},
   "outputs": [],
   "source": [
    "data['N_INJURY'] = data.INJURY.apply(lambda x: lt.coincidencia(patron_injury, x))"
   ]
  },
  {
   "cell_type": "code",
   "execution_count": 67,
   "metadata": {},
   "outputs": [],
   "source": [
    "data[\"N_INJURY\"] = data[\"N_INJURY\"].replace([None], 0)"
   ]
  },
  {
   "cell_type": "code",
   "execution_count": 68,
   "metadata": {},
   "outputs": [],
   "source": [
    "data[\"N_INJURY\"] = data[\"N_INJURY\"].replace(['dead','boot'], [0, 0])"
   ]
  },
  {
   "cell_type": "code",
   "execution_count": 69,
   "metadata": {},
   "outputs": [
    {
     "data": {
      "text/plain": [
       "0       3981\n",
       "leg      809\n",
       "foot     725\n",
       "hand     382\n",
       "arm      362\n",
       "head      43\n",
       "Name: N_INJURY, dtype: int64"
      ]
     },
     "execution_count": 69,
     "metadata": {},
     "output_type": "execute_result"
    }
   ],
   "source": [
    "data['N_INJURY'].value_counts()"
   ]
  },
  {
   "cell_type": "code",
   "execution_count": 70,
   "metadata": {},
   "outputs": [],
   "source": [
    "data = data.drop(['DATE', 'ACTIVITY', 'TIME', 'SPECIES', 'INJURY'], axis=1)"
   ]
  },
  {
   "cell_type": "code",
   "execution_count": 71,
   "metadata": {},
   "outputs": [],
   "source": [
    "data = data[['COUNTRY', 'YEAR', 'MONTHLY', 'N_TIME', 'SEX', 'AGE', 'N_ACTIVITY', 'N_SPECIES', 'FATAL_Y_N', 'N_INJURY']]"
   ]
  },
  {
   "cell_type": "code",
   "execution_count": 72,
   "metadata": {},
   "outputs": [],
   "source": [
    "data.to_csv('sharklimpio.csv', index=False)"
   ]
  },
  {
   "cell_type": "markdown",
   "metadata": {},
   "source": [
    "data['ORIGINAL ORDER'] = data['ORIGINAL ORDER'].astype(int)"
   ]
  },
  {
   "cell_type": "markdown",
   "metadata": {},
   "source": [
    "data1 = data1.set_index(\"ORIGINAL ORDER\")"
   ]
  },
  {
   "cell_type": "markdown",
   "metadata": {},
   "source": [
    "data1"
   ]
  },
  {
   "cell_type": "markdown",
   "metadata": {},
   "source": [
    "by_order = data1.sort_values('ORIGINAL ORDER')"
   ]
  },
  {
   "cell_type": "markdown",
   "metadata": {},
   "source": [
    "by_order"
   ]
  }
 ],
 "metadata": {
  "kernelspec": {
   "display_name": "Python 3",
   "language": "python",
   "name": "python3"
  },
  "language_info": {
   "codemirror_mode": {
    "name": "ipython",
    "version": 3
   },
   "file_extension": ".py",
   "mimetype": "text/x-python",
   "name": "python",
   "nbconvert_exporter": "python",
   "pygments_lexer": "ipython3",
   "version": "3.8.5"
  },
  "toc": {
   "base_numbering": 1,
   "nav_menu": {},
   "number_sections": true,
   "sideBar": true,
   "skip_h1_title": true,
   "title_cell": "Table of Contents",
   "title_sidebar": "Contents",
   "toc_cell": false,
   "toc_position": {},
   "toc_section_display": true,
   "toc_window_display": false
  }
 },
 "nbformat": 4,
 "nbformat_minor": 4
}
